{
  "nbformat": 4,
  "nbformat_minor": 0,
  "metadata": {
    "colab": {
      "name": "Densepose.ipynb",
      "provenance": [],
      "mount_file_id": "1XFg6gSUpcuIaZoFPYRca8wVAGUy1SX58",
      "authorship_tag": "ABX9TyOicZjz65ORaFFjQPeFuHCV",
      "include_colab_link": true
    },
    "kernelspec": {
      "name": "python3",
      "display_name": "Python 3"
    },
    "language_info": {
      "name": "python"
    },
    "accelerator": "GPU"
  },
  "cells": [
    {
      "cell_type": "markdown",
      "metadata": {
        "id": "view-in-github",
        "colab_type": "text"
      },
      "source": [
        "<a href=\"https://colab.research.google.com/github/Shivansh-ct/Densepose/blob/main/Densepose.ipynb\" target=\"_parent\"><img src=\"https://colab.research.google.com/assets/colab-badge.svg\" alt=\"Open In Colab\"/></a>"
      ]
    },
    {
      "cell_type": "code",
      "metadata": {
        "colab": {
          "base_uri": "https://localhost:8080/"
        },
        "id": "6m1OVMP654O1",
        "outputId": "00cf9c9e-9f05-4535-e9b1-6302ab2feb1d"
      },
      "source": [
        "! git clone 'https://github.com/facebookresearch/detectron2.git'"
      ],
      "execution_count": null,
      "outputs": [
        {
          "output_type": "stream",
          "text": [
            "Cloning into 'detectron2'...\n",
            "remote: Enumerating objects: 12800, done.\u001b[K\n",
            "remote: Counting objects: 100% (298/298), done.\u001b[K\n",
            "remote: Compressing objects: 100% (175/175), done.\u001b[K\n",
            "remote: Total 12800 (delta 140), reused 240 (delta 121), pack-reused 12502\u001b[K\n",
            "Receiving objects: 100% (12800/12800), 5.48 MiB | 20.92 MiB/s, done.\n",
            "Resolving deltas: 100% (9096/9096), done.\n"
          ],
          "name": "stdout"
        }
      ]
    },
    {
      "cell_type": "code",
      "metadata": {
        "colab": {
          "base_uri": "https://localhost:8080/"
        },
        "id": "QZjzf-kY54Lt",
        "outputId": "b3c5d302-d95f-4fef-e4a4-0f9c02746539"
      },
      "source": [
        "cd /content/detectron2/projects/DensePose"
      ],
      "execution_count": null,
      "outputs": [
        {
          "output_type": "stream",
          "text": [
            "/content/detectron2/projects/DensePose\n"
          ],
          "name": "stdout"
        }
      ]
    },
    {
      "cell_type": "code",
      "metadata": {
        "colab": {
          "base_uri": "https://localhost:8080/",
          "height": 1000
        },
        "id": "5luI4K1K54CV",
        "outputId": "df466ef5-5b20-4cfa-f06d-ac94e9d9618a"
      },
      "source": [
        "! pip install git+https://github.com/facebookresearch/detectron2@master#subdirectory=projects/DensePose\n"
      ],
      "execution_count": null,
      "outputs": [
        {
          "output_type": "stream",
          "text": [
            "Collecting git+https://github.com/facebookresearch/detectron2@master#subdirectory=projects/DensePose\n",
            "  Cloning https://github.com/facebookresearch/detectron2 (to revision master) to /tmp/pip-req-build-7761gj9r\n",
            "  Running command git clone -q https://github.com/facebookresearch/detectron2 /tmp/pip-req-build-7761gj9r\n",
            "Collecting detectron2@ git+https://github.com/facebookresearch/detectron2.git\n",
            "  Cloning https://github.com/facebookresearch/detectron2.git to /tmp/pip-install-v0t4z0dh/detectron2_16674a46f6594b3ab801748ebf10dc50\n",
            "  Running command git clone -q https://github.com/facebookresearch/detectron2.git /tmp/pip-install-v0t4z0dh/detectron2_16674a46f6594b3ab801748ebf10dc50\n",
            "Collecting av>=8.0.3\n",
            "  Downloading av-8.0.3-cp37-cp37m-manylinux2010_x86_64.whl (37.2 MB)\n",
            "\u001b[K     |████████████████████████████████| 37.2 MB 29 kB/s \n",
            "\u001b[?25hCollecting opencv-python-headless>=4.5.3.56\n",
            "  Downloading opencv_python_headless-4.5.3.56-cp37-cp37m-manylinux2014_x86_64.whl (37.1 MB)\n",
            "\u001b[K     |████████████████████████████████| 37.1 MB 39 kB/s \n",
            "\u001b[?25hCollecting scipy>=1.5.4\n",
            "  Downloading scipy-1.7.1-cp37-cp37m-manylinux_2_5_x86_64.manylinux1_x86_64.whl (28.5 MB)\n",
            "\u001b[K     |████████████████████████████████| 28.5 MB 45 kB/s \n",
            "\u001b[?25hRequirement already satisfied: torch>=1.9.0 in /usr/local/lib/python3.7/dist-packages (from detectron2-densepose==0.5) (1.9.0+cu102)\n",
            "Requirement already satisfied: torchvision>=0.10.0 in /usr/local/lib/python3.7/dist-packages (from detectron2-densepose==0.5) (0.10.0+cu102)\n",
            "Requirement already satisfied: Pillow>=7.1 in /usr/local/lib/python3.7/dist-packages (from detectron2@ git+https://github.com/facebookresearch/detectron2.git->detectron2-densepose==0.5) (7.1.2)\n",
            "Requirement already satisfied: matplotlib in /usr/local/lib/python3.7/dist-packages (from detectron2@ git+https://github.com/facebookresearch/detectron2.git->detectron2-densepose==0.5) (3.2.2)\n",
            "Requirement already satisfied: pycocotools>=2.0.2 in /usr/local/lib/python3.7/dist-packages (from detectron2@ git+https://github.com/facebookresearch/detectron2.git->detectron2-densepose==0.5) (2.0.2)\n",
            "Requirement already satisfied: termcolor>=1.1 in /usr/local/lib/python3.7/dist-packages (from detectron2@ git+https://github.com/facebookresearch/detectron2.git->detectron2-densepose==0.5) (1.1.0)\n",
            "Collecting yacs>=0.1.6\n",
            "  Downloading yacs-0.1.8-py3-none-any.whl (14 kB)\n",
            "Requirement already satisfied: tabulate in /usr/local/lib/python3.7/dist-packages (from detectron2@ git+https://github.com/facebookresearch/detectron2.git->detectron2-densepose==0.5) (0.8.9)\n",
            "Requirement already satisfied: cloudpickle in /usr/local/lib/python3.7/dist-packages (from detectron2@ git+https://github.com/facebookresearch/detectron2.git->detectron2-densepose==0.5) (1.3.0)\n",
            "Requirement already satisfied: tqdm>4.29.0 in /usr/local/lib/python3.7/dist-packages (from detectron2@ git+https://github.com/facebookresearch/detectron2.git->detectron2-densepose==0.5) (4.41.1)\n",
            "Requirement already satisfied: tensorboard in /usr/local/lib/python3.7/dist-packages (from detectron2@ git+https://github.com/facebookresearch/detectron2.git->detectron2-densepose==0.5) (2.5.0)\n",
            "Collecting fvcore<0.1.6,>=0.1.5\n",
            "  Downloading fvcore-0.1.5.post20210812.tar.gz (49 kB)\n",
            "\u001b[K     |████████████████████████████████| 49 kB 5.5 MB/s \n",
            "\u001b[?25hCollecting iopath<0.1.10,>=0.1.7\n",
            "  Downloading iopath-0.1.9-py3-none-any.whl (27 kB)\n",
            "Requirement already satisfied: future in /usr/local/lib/python3.7/dist-packages (from detectron2@ git+https://github.com/facebookresearch/detectron2.git->detectron2-densepose==0.5) (0.16.0)\n",
            "Requirement already satisfied: pydot in /usr/local/lib/python3.7/dist-packages (from detectron2@ git+https://github.com/facebookresearch/detectron2.git->detectron2-densepose==0.5) (1.3.0)\n",
            "Collecting omegaconf>=2.1\n",
            "  Downloading omegaconf-2.1.0-py3-none-any.whl (74 kB)\n",
            "\u001b[K     |████████████████████████████████| 74 kB 2.9 MB/s \n",
            "\u001b[?25hCollecting hydra-core>=1.1\n",
            "  Downloading hydra_core-1.1.0-py3-none-any.whl (144 kB)\n",
            "\u001b[K     |████████████████████████████████| 144 kB 39.3 MB/s \n",
            "\u001b[?25hCollecting black==21.4b2\n",
            "  Downloading black-21.4b2-py3-none-any.whl (130 kB)\n",
            "\u001b[K     |████████████████████████████████| 130 kB 48.8 MB/s \n",
            "\u001b[?25hCollecting typed-ast>=1.4.2\n",
            "  Downloading typed_ast-1.4.3-cp37-cp37m-manylinux1_x86_64.whl (743 kB)\n",
            "\u001b[K     |████████████████████████████████| 743 kB 43.4 MB/s \n",
            "\u001b[?25hRequirement already satisfied: typing-extensions>=3.7.4 in /usr/local/lib/python3.7/dist-packages (from black==21.4b2->detectron2@ git+https://github.com/facebookresearch/detectron2.git->detectron2-densepose==0.5) (3.7.4.3)\n",
            "Requirement already satisfied: click>=7.1.2 in /usr/local/lib/python3.7/dist-packages (from black==21.4b2->detectron2@ git+https://github.com/facebookresearch/detectron2.git->detectron2-densepose==0.5) (7.1.2)\n",
            "Collecting regex>=2020.1.8\n",
            "  Downloading regex-2021.8.3-cp37-cp37m-manylinux_2_17_x86_64.manylinux2014_x86_64.whl (722 kB)\n",
            "\u001b[K     |████████████████████████████████| 722 kB 46.5 MB/s \n",
            "\u001b[?25hCollecting pathspec<1,>=0.8.1\n",
            "  Downloading pathspec-0.9.0-py2.py3-none-any.whl (31 kB)\n",
            "Requirement already satisfied: toml>=0.10.1 in /usr/local/lib/python3.7/dist-packages (from black==21.4b2->detectron2@ git+https://github.com/facebookresearch/detectron2.git->detectron2-densepose==0.5) (0.10.2)\n",
            "Requirement already satisfied: appdirs in /usr/local/lib/python3.7/dist-packages (from black==21.4b2->detectron2@ git+https://github.com/facebookresearch/detectron2.git->detectron2-densepose==0.5) (1.4.4)\n",
            "Collecting mypy-extensions>=0.4.3\n",
            "  Downloading mypy_extensions-0.4.3-py2.py3-none-any.whl (4.5 kB)\n",
            "Requirement already satisfied: numpy in /usr/local/lib/python3.7/dist-packages (from fvcore<0.1.6,>=0.1.5->detectron2@ git+https://github.com/facebookresearch/detectron2.git->detectron2-densepose==0.5) (1.19.5)\n",
            "Collecting pyyaml>=5.1\n",
            "  Downloading PyYAML-5.4.1-cp37-cp37m-manylinux1_x86_64.whl (636 kB)\n",
            "\u001b[K     |████████████████████████████████| 636 kB 53.7 MB/s \n",
            "\u001b[?25hRequirement already satisfied: importlib-resources in /usr/local/lib/python3.7/dist-packages (from hydra-core>=1.1->detectron2@ git+https://github.com/facebookresearch/detectron2.git->detectron2-densepose==0.5) (5.2.0)\n",
            "Collecting antlr4-python3-runtime==4.8\n",
            "  Downloading antlr4-python3-runtime-4.8.tar.gz (112 kB)\n",
            "\u001b[K     |████████████████████████████████| 112 kB 55.9 MB/s \n",
            "\u001b[?25hCollecting portalocker\n",
            "  Downloading portalocker-2.3.0-py2.py3-none-any.whl (15 kB)\n",
            "Requirement already satisfied: setuptools>=18.0 in /usr/local/lib/python3.7/dist-packages (from pycocotools>=2.0.2->detectron2@ git+https://github.com/facebookresearch/detectron2.git->detectron2-densepose==0.5) (57.2.0)\n",
            "Requirement already satisfied: cython>=0.27.3 in /usr/local/lib/python3.7/dist-packages (from pycocotools>=2.0.2->detectron2@ git+https://github.com/facebookresearch/detectron2.git->detectron2-densepose==0.5) (0.29.23)\n",
            "Requirement already satisfied: kiwisolver>=1.0.1 in /usr/local/lib/python3.7/dist-packages (from matplotlib->detectron2@ git+https://github.com/facebookresearch/detectron2.git->detectron2-densepose==0.5) (1.3.1)\n",
            "Requirement already satisfied: python-dateutil>=2.1 in /usr/local/lib/python3.7/dist-packages (from matplotlib->detectron2@ git+https://github.com/facebookresearch/detectron2.git->detectron2-densepose==0.5) (2.8.1)\n",
            "Requirement already satisfied: pyparsing!=2.0.4,!=2.1.2,!=2.1.6,>=2.0.1 in /usr/local/lib/python3.7/dist-packages (from matplotlib->detectron2@ git+https://github.com/facebookresearch/detectron2.git->detectron2-densepose==0.5) (2.4.7)\n",
            "Requirement already satisfied: cycler>=0.10 in /usr/local/lib/python3.7/dist-packages (from matplotlib->detectron2@ git+https://github.com/facebookresearch/detectron2.git->detectron2-densepose==0.5) (0.10.0)\n",
            "Requirement already satisfied: six in /usr/local/lib/python3.7/dist-packages (from cycler>=0.10->matplotlib->detectron2@ git+https://github.com/facebookresearch/detectron2.git->detectron2-densepose==0.5) (1.15.0)\n",
            "Requirement already satisfied: zipp>=3.1.0 in /usr/local/lib/python3.7/dist-packages (from importlib-resources->hydra-core>=1.1->detectron2@ git+https://github.com/facebookresearch/detectron2.git->detectron2-densepose==0.5) (3.5.0)\n",
            "Requirement already satisfied: grpcio>=1.24.3 in /usr/local/lib/python3.7/dist-packages (from tensorboard->detectron2@ git+https://github.com/facebookresearch/detectron2.git->detectron2-densepose==0.5) (1.34.1)\n",
            "Requirement already satisfied: protobuf>=3.6.0 in /usr/local/lib/python3.7/dist-packages (from tensorboard->detectron2@ git+https://github.com/facebookresearch/detectron2.git->detectron2-densepose==0.5) (3.17.3)\n",
            "Requirement already satisfied: tensorboard-data-server<0.7.0,>=0.6.0 in /usr/local/lib/python3.7/dist-packages (from tensorboard->detectron2@ git+https://github.com/facebookresearch/detectron2.git->detectron2-densepose==0.5) (0.6.1)\n",
            "Requirement already satisfied: tensorboard-plugin-wit>=1.6.0 in /usr/local/lib/python3.7/dist-packages (from tensorboard->detectron2@ git+https://github.com/facebookresearch/detectron2.git->detectron2-densepose==0.5) (1.8.0)\n",
            "Requirement already satisfied: requests<3,>=2.21.0 in /usr/local/lib/python3.7/dist-packages (from tensorboard->detectron2@ git+https://github.com/facebookresearch/detectron2.git->detectron2-densepose==0.5) (2.23.0)\n",
            "Requirement already satisfied: google-auth-oauthlib<0.5,>=0.4.1 in /usr/local/lib/python3.7/dist-packages (from tensorboard->detectron2@ git+https://github.com/facebookresearch/detectron2.git->detectron2-densepose==0.5) (0.4.4)\n",
            "Requirement already satisfied: google-auth<2,>=1.6.3 in /usr/local/lib/python3.7/dist-packages (from tensorboard->detectron2@ git+https://github.com/facebookresearch/detectron2.git->detectron2-densepose==0.5) (1.32.1)\n",
            "Requirement already satisfied: markdown>=2.6.8 in /usr/local/lib/python3.7/dist-packages (from tensorboard->detectron2@ git+https://github.com/facebookresearch/detectron2.git->detectron2-densepose==0.5) (3.3.4)\n",
            "Requirement already satisfied: absl-py>=0.4 in /usr/local/lib/python3.7/dist-packages (from tensorboard->detectron2@ git+https://github.com/facebookresearch/detectron2.git->detectron2-densepose==0.5) (0.12.0)\n",
            "Requirement already satisfied: werkzeug>=0.11.15 in /usr/local/lib/python3.7/dist-packages (from tensorboard->detectron2@ git+https://github.com/facebookresearch/detectron2.git->detectron2-densepose==0.5) (1.0.1)\n",
            "Requirement already satisfied: wheel>=0.26 in /usr/local/lib/python3.7/dist-packages (from tensorboard->detectron2@ git+https://github.com/facebookresearch/detectron2.git->detectron2-densepose==0.5) (0.36.2)\n",
            "Requirement already satisfied: cachetools<5.0,>=2.0.0 in /usr/local/lib/python3.7/dist-packages (from google-auth<2,>=1.6.3->tensorboard->detectron2@ git+https://github.com/facebookresearch/detectron2.git->detectron2-densepose==0.5) (4.2.2)\n",
            "Requirement already satisfied: pyasn1-modules>=0.2.1 in /usr/local/lib/python3.7/dist-packages (from google-auth<2,>=1.6.3->tensorboard->detectron2@ git+https://github.com/facebookresearch/detectron2.git->detectron2-densepose==0.5) (0.2.8)\n",
            "Requirement already satisfied: rsa<5,>=3.1.4 in /usr/local/lib/python3.7/dist-packages (from google-auth<2,>=1.6.3->tensorboard->detectron2@ git+https://github.com/facebookresearch/detectron2.git->detectron2-densepose==0.5) (4.7.2)\n",
            "Requirement already satisfied: requests-oauthlib>=0.7.0 in /usr/local/lib/python3.7/dist-packages (from google-auth-oauthlib<0.5,>=0.4.1->tensorboard->detectron2@ git+https://github.com/facebookresearch/detectron2.git->detectron2-densepose==0.5) (1.3.0)\n",
            "Requirement already satisfied: importlib-metadata in /usr/local/lib/python3.7/dist-packages (from markdown>=2.6.8->tensorboard->detectron2@ git+https://github.com/facebookresearch/detectron2.git->detectron2-densepose==0.5) (4.6.1)\n",
            "Requirement already satisfied: pyasn1<0.5.0,>=0.4.6 in /usr/local/lib/python3.7/dist-packages (from pyasn1-modules>=0.2.1->google-auth<2,>=1.6.3->tensorboard->detectron2@ git+https://github.com/facebookresearch/detectron2.git->detectron2-densepose==0.5) (0.4.8)\n",
            "Requirement already satisfied: certifi>=2017.4.17 in /usr/local/lib/python3.7/dist-packages (from requests<3,>=2.21.0->tensorboard->detectron2@ git+https://github.com/facebookresearch/detectron2.git->detectron2-densepose==0.5) (2021.5.30)\n",
            "Requirement already satisfied: chardet<4,>=3.0.2 in /usr/local/lib/python3.7/dist-packages (from requests<3,>=2.21.0->tensorboard->detectron2@ git+https://github.com/facebookresearch/detectron2.git->detectron2-densepose==0.5) (3.0.4)\n",
            "Requirement already satisfied: idna<3,>=2.5 in /usr/local/lib/python3.7/dist-packages (from requests<3,>=2.21.0->tensorboard->detectron2@ git+https://github.com/facebookresearch/detectron2.git->detectron2-densepose==0.5) (2.10)\n",
            "Requirement already satisfied: urllib3!=1.25.0,!=1.25.1,<1.26,>=1.21.1 in /usr/local/lib/python3.7/dist-packages (from requests<3,>=2.21.0->tensorboard->detectron2@ git+https://github.com/facebookresearch/detectron2.git->detectron2-densepose==0.5) (1.24.3)\n",
            "Requirement already satisfied: oauthlib>=3.0.0 in /usr/local/lib/python3.7/dist-packages (from requests-oauthlib>=0.7.0->google-auth-oauthlib<0.5,>=0.4.1->tensorboard->detectron2@ git+https://github.com/facebookresearch/detectron2.git->detectron2-densepose==0.5) (3.1.1)\n",
            "Building wheels for collected packages: detectron2-densepose, detectron2, fvcore, antlr4-python3-runtime\n",
            "  Building wheel for detectron2-densepose (setup.py) ... \u001b[?25l\u001b[?25hdone\n",
            "  Created wheel for detectron2-densepose: filename=detectron2_densepose-0.5-py3-none-any.whl size=162079 sha256=4e6f1f72298d9254e2ef626475ca25a2723ade474eec6ed46183575913ef50e9\n",
            "  Stored in directory: /tmp/pip-ephem-wheel-cache-1v9zdnlu/wheels/13/09/94/144298b6e5e5ffe53ae87e0f9b6d0bef5bbc5654188c813d97\n",
            "  Building wheel for detectron2 (setup.py) ... \u001b[?25l\u001b[?25hdone\n",
            "  Created wheel for detectron2: filename=detectron2-0.5-cp37-cp37m-linux_x86_64.whl size=5516118 sha256=4ffb360cd697e00e20618117875980ea7bafee29a95af5e424cf4655161dba88\n",
            "  Stored in directory: /tmp/pip-ephem-wheel-cache-1v9zdnlu/wheels/07/dc/32/0322cb484dbefab8b9366bfedbaff5060ac7d149d69c27ca5d\n",
            "  Building wheel for fvcore (setup.py) ... \u001b[?25l\u001b[?25hdone\n",
            "  Created wheel for fvcore: filename=fvcore-0.1.5.post20210812-py3-none-any.whl size=60664 sha256=938653d6cf5cf33a52bbf6ed356c8d8529590d953f7ac0f4b922eaa27947a9c8\n",
            "  Stored in directory: /root/.cache/pip/wheels/96/b3/60/5dd98f4458841d2c07395a99e2d7f4260b5a320e4aebb683d1\n",
            "  Building wheel for antlr4-python3-runtime (setup.py) ... \u001b[?25l\u001b[?25hdone\n",
            "  Created wheel for antlr4-python3-runtime: filename=antlr4_python3_runtime-4.8-py3-none-any.whl size=141229 sha256=55a35eb80f8f10893c6ddf2a15749b02f7540ffef33aff62215fd7823000d69e\n",
            "  Stored in directory: /root/.cache/pip/wheels/ca/33/b7/336836125fc9bb4ceaa4376d8abca10ca8bc84ddc824baea6c\n",
            "Successfully built detectron2-densepose detectron2 fvcore antlr4-python3-runtime\n",
            "Installing collected packages: pyyaml, portalocker, antlr4-python3-runtime, yacs, typed-ast, regex, pathspec, omegaconf, mypy-extensions, iopath, hydra-core, fvcore, black, scipy, opencv-python-headless, detectron2, av, detectron2-densepose\n",
            "  Attempting uninstall: pyyaml\n",
            "    Found existing installation: PyYAML 3.13\n",
            "    Uninstalling PyYAML-3.13:\n",
            "      Successfully uninstalled PyYAML-3.13\n",
            "  Attempting uninstall: regex\n",
            "    Found existing installation: regex 2019.12.20\n",
            "    Uninstalling regex-2019.12.20:\n",
            "      Successfully uninstalled regex-2019.12.20\n",
            "  Attempting uninstall: scipy\n",
            "    Found existing installation: scipy 1.4.1\n",
            "    Uninstalling scipy-1.4.1:\n",
            "      Successfully uninstalled scipy-1.4.1\n",
            "\u001b[31mERROR: pip's dependency resolver does not currently take into account all the packages that are installed. This behaviour is the source of the following dependency conflicts.\n",
            "albumentations 0.1.12 requires imgaug<0.2.7,>=0.2.5, but you have imgaug 0.2.9 which is incompatible.\u001b[0m\n",
            "Successfully installed antlr4-python3-runtime-4.8 av-8.0.3 black-21.4b2 detectron2-0.5 detectron2-densepose-0.5 fvcore-0.1.5.post20210812 hydra-core-1.1.0 iopath-0.1.9 mypy-extensions-0.4.3 omegaconf-2.1.0 opencv-python-headless-4.5.3.56 pathspec-0.9.0 portalocker-2.3.0 pyyaml-5.4.1 regex-2021.8.3 scipy-1.7.1 typed-ast-1.4.3 yacs-0.1.8\n"
          ],
          "name": "stdout"
        },
        {
          "output_type": "display_data",
          "data": {
            "application/vnd.colab-display-data+json": {
              "pip_warning": {
                "packages": [
                  "pydevd_plugins"
                ]
              }
            }
          },
          "metadata": {
            "tags": []
          }
        }
      ]
    },
    {
      "cell_type": "code",
      "metadata": {
        "colab": {
          "base_uri": "https://localhost:8080/"
        },
        "id": "iZOEs0b172_w",
        "outputId": "68c91bd3-6aa9-4e0f-e152-a24c6fd2b7c8"
      },
      "source": [
        "cd /content/detectron2/projects/DensePose"
      ],
      "execution_count": null,
      "outputs": [
        {
          "output_type": "stream",
          "text": [
            "/content/detectron2/projects/DensePose\n"
          ],
          "name": "stdout"
        }
      ]
    },
    {
      "cell_type": "code",
      "metadata": {
        "colab": {
          "base_uri": "https://localhost:8080/"
        },
        "id": "rxYsXgeL6xsu",
        "outputId": "8587ea5c-3ec2-411d-8cad-79f2ba68db9c"
      },
      "source": [
        "! python apply_net.py show configs/densepose_rcnn_R_50_FPN_s1x.yaml /content/drive/MyDrive/models/model_final_d366fa.pkl /content/drive/MyDrive/ex.mp4 dp_contour,bbox --output outt.mp4"
      ],
      "execution_count": null,
      "outputs": [
        {
          "output_type": "stream",
          "text": [
            "Skip loading parameter 'roi_heads.densepose_predictor.ann_index_lowres.weight' to the model due to incompatible shapes: (512, 15, 4, 4) in the checkpoint but (512, 2, 4, 4) in the model! You might want to double check if this is expected.\n",
            "Skip loading parameter 'roi_heads.densepose_predictor.ann_index_lowres.bias' to the model due to incompatible shapes: (15,) in the checkpoint but (2,) in the model! You might want to double check if this is expected.\n",
            "Some model parameters or buffers are not found in the checkpoint:\n",
            "\u001b[34mroi_heads.decoder.p2.0.{bias, weight}\u001b[0m\n",
            "\u001b[34mroi_heads.decoder.p3.0.{bias, weight}\u001b[0m\n",
            "\u001b[34mroi_heads.decoder.p4.0.{bias, weight}\u001b[0m\n",
            "\u001b[34mroi_heads.decoder.p4.2.{bias, weight}\u001b[0m\n",
            "\u001b[34mroi_heads.decoder.p5.0.{bias, weight}\u001b[0m\n",
            "\u001b[34mroi_heads.decoder.p5.2.{bias, weight}\u001b[0m\n",
            "\u001b[34mroi_heads.decoder.p5.4.{bias, weight}\u001b[0m\n",
            "\u001b[34mroi_heads.decoder.predictor.{bias, weight}\u001b[0m\n",
            "\u001b[34mroi_heads.densepose_predictor.ann_index_lowres.{bias, weight}\u001b[0m\n",
            "\u001b[5m\u001b[31mWARNING\u001b[0m \u001b[32m[08/12 09:58:31 apply_net]: \u001b[0mNo input images for /content/drive/MyDrive/ex.mp4\n"
          ],
          "name": "stdout"
        }
      ]
    },
    {
      "cell_type": "code",
      "metadata": {
        "id": "VaKp2wUp_NJq"
      },
      "source": [
        "import os\n",
        "import numpy as np\n",
        "c = 0\n",
        "for i in os.listdir('/content/drive/MyDrive/yoga/yoga_82_wrongs'):\n",
        "  for j in os.listdir('/content/drive/MyDrive/yoga/yoga_82_wrongs/'+i):\n",
        "    if c>=0:\n",
        "     os.system(\"python apply_net.py dump configs/densepose_rcnn_R_101_FPN_s1x_legacy.yaml /content/drive/MyDrive/models/model_final_10af0e.pkl /content/drive/MyDrive/yoga/yoga_82_wrongs/\"+i+\"/\"+j+\" --output /content/drive/MyDrive/yoga/densepose_outputs/\"+i+\"/\"+j+\".pkl -v\")\n",
        "    c = c+1\n",
        "    np.save(\"/content/drive/MyDrive/yoga/c.npy\",c)\n"
      ],
      "execution_count": null,
      "outputs": []
    },
    {
      "cell_type": "code",
      "metadata": {
        "colab": {
          "base_uri": "https://localhost:8080/"
        },
        "id": "LxQjAIp1t3b4",
        "outputId": "a1fa04a8-072d-4d6b-c8eb-7c309c5dbce1"
      },
      "source": [
        "import numpy as np\n",
        "print(np.load(\"/content/drive/MyDrive/yoga/c.npy\"))"
      ],
      "execution_count": null,
      "outputs": [
        {
          "output_type": "stream",
          "text": [
            "751\n"
          ],
          "name": "stdout"
        }
      ]
    },
    {
      "cell_type": "code",
      "metadata": {
        "colab": {
          "base_uri": "https://localhost:8080/"
        },
        "id": "Y0llHm5s8bJj",
        "outputId": "adeef170-829e-4e3b-ea06-eab2a2b3caa6"
      },
      "source": [
        "! python apply_net.py dump configs/densepose_rcnn_R_101_FPN_s1x_legacy.yaml /content/drive/MyDrive/models/model_final_10af0e.pkl /content/drive/MyDrive/hel.jpg --output dump.pkl -v"
      ],
      "execution_count": null,
      "outputs": [
        {
          "output_type": "stream",
          "text": [
            "\u001b[32m[08/10 11:57:05 apply_net]: \u001b[0mLoading config from configs/densepose_rcnn_R_101_FPN_s1x_legacy.yaml\n",
            "\u001b[32m[08/10 11:57:05 apply_net]: \u001b[0mLoading model from /content/drive/MyDrive/models/model_final_10af0e.pkl\n",
            "\u001b[32m[08/10 11:57:09 apply_net]: \u001b[0mLoading data from /content/drive/MyDrive/hel.jpg\n",
            "/usr/local/lib/python3.7/dist-packages/torch/_tensor.py:575: UserWarning: floor_divide is deprecated, and will be removed in a future version of pytorch. It currently rounds toward 0 (like the 'trunc' function NOT 'floor'). This results in incorrect rounding for negative values.\n",
            "To keep the current behavior, use torch.div(a, b, rounding_mode='trunc'), or for actual floor division, use torch.div(a, b, rounding_mode='floor'). (Triggered internally at  /pytorch/aten/src/ATen/native/BinaryOps.cpp:467.)\n",
            "  return torch.floor_divide(self, other)\n",
            "/usr/local/lib/python3.7/dist-packages/torch/nn/functional.py:718: UserWarning: Named tensors and all their associated APIs are an experimental feature and subject to change. Please do not use them for anything important until they are released as stable. (Triggered internally at  /pytorch/c10/core/TensorImpl.h:1156.)\n",
            "  return torch.max_pool2d(input, kernel_size, stride, padding, dilation, ceil_mode)\n",
            "\u001b[32m[08/10 11:57:09 apply_net]: \u001b[0mProcessing /content/drive/MyDrive/hel.jpg\n",
            "/content/detectron2/projects/DensePose/densepose/vis/densepose_results.py:133: UserWarning: The following kwargs were not used by contour: 'cfg', 'texture_atlas', 'texture_atlases_dict'\n",
            "  plt.contour(u, self.levels, extent=extent, **self.plot_args)\n",
            "/content/detectron2/projects/DensePose/densepose/vis/densepose_results.py:134: UserWarning: The following kwargs were not used by contour: 'cfg', 'texture_atlas', 'texture_atlases_dict'\n",
            "  plt.contour(v, self.levels, extent=extent, **self.plot_args)\n",
            "\u001b[32m[08/10 11:57:10 apply_net]: \u001b[0mOutput saved to outputres.0001.png\n"
          ],
          "name": "stdout"
        }
      ]
    },
    {
      "cell_type": "code",
      "metadata": {
        "colab": {
          "base_uri": "https://localhost:8080/"
        },
        "id": "zhSejts4GE3Y",
        "outputId": "b750f9f9-187b-48e9-bbd8-0915fab22438"
      },
      "source": [
        "from google.colab import drive\n",
        "drive.mount('/content/drive')"
      ],
      "execution_count": null,
      "outputs": [
        {
          "output_type": "stream",
          "text": [
            "Mounted at /content/drive\n"
          ],
          "name": "stdout"
        }
      ]
    },
    {
      "cell_type": "code",
      "metadata": {
        "id": "2iC2-hVL_WDH"
      },
      "source": [
        "import pickle\n",
        "data = pickle.load(open(\"/content/drive/MyDrive/yoga/densepose_outputs/Akarna_Dhanurasana16.jpg.pkl\", 'rb'))"
      ],
      "execution_count": null,
      "outputs": []
    },
    {
      "cell_type": "code",
      "metadata": {
        "colab": {
          "base_uri": "https://localhost:8080/"
        },
        "id": "p0KUOjvnBpxN",
        "outputId": "dddd9815-92ed-4d27-ff74-1978d5d08184"
      },
      "source": [
        "from google.colab import drive\n",
        "drive.mount(\"/content/drive\", force_remount=True)"
      ],
      "execution_count": null,
      "outputs": [
        {
          "output_type": "stream",
          "text": [
            "Mounted at /content/drive\n"
          ],
          "name": "stdout"
        }
      ]
    },
    {
      "cell_type": "code",
      "metadata": {
        "id": "esn0-GKg_s0O"
      },
      "source": [
        "x = [106, 290, 133, 730, 116, 251, 702, 276, 277, 712, 115, 310,424, 625, 626, 422, 600, 277,711, 286, 291, 201, 352, 815, 215, 216, 205, 353, 200, 210, 360, 415, 278, 279, 292, 261, 105, 420, 111, 424, 709, 311, 501, 704, 610, 380, 502, 710, 423]"
      ],
      "execution_count": null,
      "outputs": []
    },
    {
      "cell_type": "code",
      "metadata": {
        "id": "FKV2vdxk_-Nv"
      },
      "source": [
        "x.sort()"
      ],
      "execution_count": null,
      "outputs": []
    },
    {
      "cell_type": "code",
      "metadata": {
        "colab": {
          "base_uri": "https://localhost:8080/"
        },
        "id": "4h-I1k-LAFK_",
        "outputId": "04ea26a1-9702-4539-b982-4f6c15596fe0"
      },
      "source": [
        "x"
      ],
      "execution_count": null,
      "outputs": [
        {
          "output_type": "execute_result",
          "data": {
            "text/plain": [
              "[105,\n",
              " 106,\n",
              " 111,\n",
              " 115,\n",
              " 116,\n",
              " 133,\n",
              " 200,\n",
              " 201,\n",
              " 205,\n",
              " 210,\n",
              " 215,\n",
              " 216,\n",
              " 251,\n",
              " 261,\n",
              " 276,\n",
              " 277,\n",
              " 277,\n",
              " 278,\n",
              " 279,\n",
              " 286,\n",
              " 290,\n",
              " 291,\n",
              " 292,\n",
              " 310,\n",
              " 311,\n",
              " 352,\n",
              " 353,\n",
              " 360,\n",
              " 380,\n",
              " 415,\n",
              " 420,\n",
              " 422,\n",
              " 423,\n",
              " 424,\n",
              " 424,\n",
              " 501,\n",
              " 502,\n",
              " 600,\n",
              " 610,\n",
              " 625,\n",
              " 626,\n",
              " 702,\n",
              " 704,\n",
              " 709,\n",
              " 710,\n",
              " 711,\n",
              " 712,\n",
              " 730,\n",
              " 815]"
            ]
          },
          "metadata": {
            "tags": []
          },
          "execution_count": 3
        }
      ]
    },
    {
      "cell_type": "code",
      "metadata": {
        "id": "NP4EvFLEAGKf"
      },
      "source": [
        "y = [2100, 6360, 9810, 6370, 3000, 3010, 3080, 3130, 3400, 3100, 1120, 1050, 1300, 3030, 9433, 1931, 1321, 1052, 5971, 9600, 9410, 9252,6230, 6350, 6550, 3500, 6313, 6260,1811, 2352,1942,8180, 7501,1463, 2080,7502, 2216,5470, 5600,5830, 5982,8501, 8502,8185, 5621, 5950, 5629,8160,2160, 2058,4599,8030, 8370, 8400, 8200, 8034, 8080, 8300, 8232]\n"
      ],
      "execution_count": null,
      "outputs": []
    },
    {
      "cell_type": "code",
      "metadata": {
        "id": "pcXgqCTNA3NA",
        "colab": {
          "base_uri": "https://localhost:8080/"
        },
        "outputId": "a0ed1fa9-d1c6-417c-a404-df063a0bade7"
      },
      "source": [
        "y.sort()"
      ],
      "execution_count": null,
      "outputs": [
        {
          "output_type": "stream",
          "text": [
            "None\n"
          ],
          "name": "stdout"
        }
      ]
    },
    {
      "cell_type": "code",
      "metadata": {
        "id": "q-AbUZR4C0tk",
        "colab": {
          "base_uri": "https://localhost:8080/"
        },
        "outputId": "561a6ab9-36cd-44c1-f0ed-5c61d3209ee3"
      },
      "source": [
        "y"
      ],
      "execution_count": null,
      "outputs": [
        {
          "output_type": "execute_result",
          "data": {
            "text/plain": [
              "[1050,\n",
              " 1052,\n",
              " 1120,\n",
              " 1300,\n",
              " 1321,\n",
              " 1463,\n",
              " 1811,\n",
              " 1931,\n",
              " 1942,\n",
              " 2058,\n",
              " 2080,\n",
              " 2100,\n",
              " 2160,\n",
              " 2216,\n",
              " 2352,\n",
              " 3000,\n",
              " 3010,\n",
              " 3030,\n",
              " 3080,\n",
              " 3100,\n",
              " 3130,\n",
              " 3400,\n",
              " 3500,\n",
              " 4599,\n",
              " 5470,\n",
              " 5600,\n",
              " 5621,\n",
              " 5629,\n",
              " 5830,\n",
              " 5950,\n",
              " 5971,\n",
              " 5982,\n",
              " 6230,\n",
              " 6260,\n",
              " 6313,\n",
              " 6350,\n",
              " 6360,\n",
              " 6370,\n",
              " 6550,\n",
              " 7501,\n",
              " 7502,\n",
              " 8030,\n",
              " 8034,\n",
              " 8080,\n",
              " 8160,\n",
              " 8180,\n",
              " 8185,\n",
              " 8200,\n",
              " 8232,\n",
              " 8300,\n",
              " 8370,\n",
              " 8400,\n",
              " 8501,\n",
              " 8502,\n",
              " 9252,\n",
              " 9410,\n",
              " 9433,\n",
              " 9600,\n",
              " 9810]"
            ]
          },
          "metadata": {
            "tags": []
          },
          "execution_count": 7
        }
      ]
    },
    {
      "cell_type": "code",
      "metadata": {
        "id": "guGTWv0yC5Zz"
      },
      "source": [
        "import numpy as np\n",
        "y = np.array(y)"
      ],
      "execution_count": null,
      "outputs": []
    },
    {
      "cell_type": "code",
      "metadata": {
        "colab": {
          "base_uri": "https://localhost:8080/"
        },
        "id": "OjirPmtuMPCT",
        "outputId": "fc02aff3-5010-4bd7-a120-120ffa1170dc"
      },
      "source": [
        "y.shape"
      ],
      "execution_count": null,
      "outputs": [
        {
          "output_type": "execute_result",
          "data": {
            "text/plain": [
              "(4,)"
            ]
          },
          "metadata": {
            "tags": []
          },
          "execution_count": 18
        }
      ]
    },
    {
      "cell_type": "code",
      "metadata": {
        "id": "KmjfubQmMVOD"
      },
      "source": [
        "y = y[0]"
      ],
      "execution_count": null,
      "outputs": []
    },
    {
      "cell_type": "code",
      "metadata": {
        "id": "ax4ztlBwMWlj"
      },
      "source": [
        "img_id, instance_id = 0, 0  # Look at the first image and the first detected instance\n",
        "bbox_xyxy = data[img_id]['pred_boxes_XYXY'][instance_id]\n",
        "result = data[img_id]['pred_densepose'][instance_id]\n",
        "uv = result.uv"
      ],
      "execution_count": null,
      "outputs": []
    },
    {
      "cell_type": "code",
      "metadata": {
        "id": "WfUdU3DCeWtR"
      },
      "source": [
        ""
      ],
      "execution_count": null,
      "outputs": []
    },
    {
      "cell_type": "markdown",
      "metadata": {
        "id": "ARKBT3wr7rf5"
      },
      "source": [
        "# DensePose for Videos"
      ]
    },
    {
      "cell_type": "code",
      "metadata": {
        "colab": {
          "base_uri": "https://localhost:8080/"
        },
        "id": "ccspWyow74mh",
        "outputId": "b7cc9fa2-90ac-429b-fb6e-1cc80c1d15f7"
      },
      "source": [
        "! pip install opencv-python"
      ],
      "execution_count": null,
      "outputs": [
        {
          "output_type": "stream",
          "text": [
            "Requirement already satisfied: opencv-python in /usr/local/lib/python3.7/dist-packages (4.1.2.30)\n",
            "Requirement already satisfied: numpy>=1.14.5 in /usr/local/lib/python3.7/dist-packages (from opencv-python) (1.19.5)\n"
          ],
          "name": "stdout"
        }
      ]
    },
    {
      "cell_type": "code",
      "metadata": {
        "id": "xgATRFER7xCR"
      },
      "source": [
        "import cv2\n",
        " \n",
        "# Opens the Video file\n",
        "cap= cv2.VideoCapture('/content/drive/MyDrive/ex.mp4')\n",
        "fps = cap.get(cv2.CAP_PROP_FPS)\n",
        "\n",
        "i=0\n",
        "while(cap.isOpened()):\n",
        "    ret, frame = cap.read()\n",
        "    if ret == False:\n",
        "        break\n",
        "    cv2.imwrite('/content/drive/MyDrive/hello/ex'+str(i)+'.jpg',frame)\n",
        "    i+=1\n",
        " \n",
        "cap.release()\n",
        "cv2.destroyAllWindows()"
      ],
      "execution_count": null,
      "outputs": []
    },
    {
      "cell_type": "code",
      "metadata": {
        "colab": {
          "base_uri": "https://localhost:8080/"
        },
        "id": "uOAvKKFB7xLB",
        "outputId": "3bc05294-b162-42f3-816c-4476b64132f6"
      },
      "source": [
        "fps"
      ],
      "execution_count": null,
      "outputs": [
        {
          "output_type": "execute_result",
          "data": {
            "text/plain": [
              "0.0"
            ]
          },
          "metadata": {
            "tags": []
          },
          "execution_count": 10
        }
      ]
    },
    {
      "cell_type": "code",
      "metadata": {
        "colab": {
          "base_uri": "https://localhost:8080/"
        },
        "id": "29GGQQd67xO6",
        "outputId": "a3e62c8a-8ea2-4a2b-f7ff-4404f75828f1"
      },
      "source": [
        "! pip install opencv-python"
      ],
      "execution_count": null,
      "outputs": [
        {
          "output_type": "stream",
          "text": [
            "Requirement already satisfied: opencv-python in /usr/local/lib/python3.7/dist-packages (4.1.2.30)\n",
            "Requirement already satisfied: numpy>=1.14.5 in /usr/local/lib/python3.7/dist-packages (from opencv-python) (1.19.5)\n"
          ],
          "name": "stdout"
        }
      ]
    },
    {
      "cell_type": "code",
      "metadata": {
        "id": "0CscTaohXqUQ"
      },
      "source": [
        "import cv2 as cv\n",
        "x = cv.imread(\"/content/drive/MyDrive/check.png\")"
      ],
      "execution_count": null,
      "outputs": []
    },
    {
      "cell_type": "code",
      "metadata": {
        "colab": {
          "base_uri": "https://localhost:8080/",
          "height": 162
        },
        "id": "hyjjqgqdaUJz",
        "outputId": "c3360aec-2d84-4813-a373-63f1024709f2"
      },
      "source": [
        "x.shape"
      ],
      "execution_count": null,
      "outputs": [
        {
          "output_type": "error",
          "ename": "AttributeError",
          "evalue": "ignored",
          "traceback": [
            "\u001b[0;31m---------------------------------------------------------------------------\u001b[0m",
            "\u001b[0;31mAttributeError\u001b[0m                            Traceback (most recent call last)",
            "\u001b[0;32m<ipython-input-3-9f2b259887ef>\u001b[0m in \u001b[0;36m<module>\u001b[0;34m()\u001b[0m\n\u001b[0;32m----> 1\u001b[0;31m \u001b[0mx\u001b[0m\u001b[0;34m.\u001b[0m\u001b[0mshape\u001b[0m\u001b[0;34m\u001b[0m\u001b[0;34m\u001b[0m\u001b[0m\n\u001b[0m",
            "\u001b[0;31mAttributeError\u001b[0m: 'NoneType' object has no attribute 'shape'"
          ]
        }
      ]
    },
    {
      "cell_type": "code",
      "metadata": {
        "id": "Uqh2iZ87aYkz"
      },
      "source": [
        ""
      ],
      "execution_count": null,
      "outputs": []
    }
  ]
}