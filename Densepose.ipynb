{
  "nbformat": 4,
  "nbformat_minor": 0,
  "metadata": {
    "colab": {
      "name": "Densepose.ipynb",
      "provenance": [],
      "mount_file_id": "1XFg6gSUpcuIaZoFPYRca8wVAGUy1SX58",
      "authorship_tag": "ABX9TyMWuEYyadbrR1o3it+E3lYQ",
      "include_colab_link": true
    },
    "kernelspec": {
      "name": "python3",
      "display_name": "Python 3"
    },
    "language_info": {
      "name": "python"
    },
    "accelerator": "GPU"
  },
  "cells": [
    {
      "cell_type": "markdown",
      "metadata": {
        "id": "view-in-github",
        "colab_type": "text"
      },
      "source": [
        "<a href=\"https://colab.research.google.com/github/Shivansh-ct/Densepose/blob/main/Densepose.ipynb\" target=\"_parent\"><img src=\"https://colab.research.google.com/assets/colab-badge.svg\" alt=\"Open In Colab\"/></a>"
      ]
    },
    {
      "cell_type": "code",
      "metadata": {
        "colab": {
          "base_uri": "https://localhost:8080/"
        },
        "id": "6m1OVMP654O1",
        "outputId": "628e7d34-b8a5-4451-cace-663634b88514"
      },
      "source": [
        "! git clone 'https://github.com/facebookresearch/detectron2.git'"
      ],
      "execution_count": null,
      "outputs": [
        {
          "output_type": "stream",
          "text": [
            "Cloning into 'detectron2'...\n",
            "remote: Enumerating objects: 12888, done.\u001b[K\n",
            "remote: Counting objects: 100% (389/389), done.\u001b[K\n",
            "remote: Compressing objects: 100% (233/233), done.\u001b[K\n",
            "remote: Total 12888 (delta 199), reused 304 (delta 153), pack-reused 12499\u001b[K\n",
            "Receiving objects: 100% (12888/12888), 5.52 MiB | 17.65 MiB/s, done.\n",
            "Resolving deltas: 100% (9155/9155), done.\n"
          ],
          "name": "stdout"
        }
      ]
    },
    {
      "cell_type": "code",
      "metadata": {
        "id": "f1EvSmjTRb0C"
      },
      "source": [
        "import densepose"
      ],
      "execution_count": null,
      "outputs": []
    },
    {
      "cell_type": "code",
      "metadata": {
        "colab": {
          "base_uri": "https://localhost:8080/"
        },
        "id": "QZjzf-kY54Lt",
        "outputId": "a71a3b5b-3cc4-4f9d-d75b-60d636066494"
      },
      "source": [
        "cd /content/detectron2/projects/DensePose"
      ],
      "execution_count": null,
      "outputs": [
        {
          "output_type": "stream",
          "text": [
            "/content/detectron2/projects/DensePose\n"
          ],
          "name": "stdout"
        }
      ]
    },
    {
      "cell_type": "code",
      "metadata": {
        "colab": {
          "base_uri": "https://localhost:8080/"
        },
        "id": "5luI4K1K54CV",
        "outputId": "a75ed363-ced8-46f5-d9fe-633fb7cf0b4c"
      },
      "source": [
        "! pip install git+https://github.com/facebookresearch/detectron2@master#subdirectory=projects/DensePose\n"
      ],
      "execution_count": null,
      "outputs": [
        {
          "output_type": "stream",
          "text": [
            "Collecting git+https://github.com/facebookresearch/detectron2@master#subdirectory=projects/DensePose\n",
            "  Cloning https://github.com/facebookresearch/detectron2 (to revision master) to /tmp/pip-req-build-240py08z\n",
            "  Running command git clone -q https://github.com/facebookresearch/detectron2 /tmp/pip-req-build-240py08z\n",
            "Collecting detectron2@ git+https://github.com/facebookresearch/detectron2.git\n",
            "  Cloning https://github.com/facebookresearch/detectron2.git to /tmp/pip-install-moc56azf/detectron2_6da6a7a882964f8a84d06e47d2ef509a\n",
            "  Running command git clone -q https://github.com/facebookresearch/detectron2.git /tmp/pip-install-moc56azf/detectron2_6da6a7a882964f8a84d06e47d2ef509a\n",
            "Requirement already satisfied: av>=8.0.3 in /usr/local/lib/python3.7/dist-packages (from detectron2-densepose==0.5) (8.0.3)\n",
            "Requirement already satisfied: opencv-python-headless>=4.5.3.56 in /usr/local/lib/python3.7/dist-packages (from detectron2-densepose==0.5) (4.5.3.56)\n",
            "Requirement already satisfied: scipy>=1.5.4 in /usr/local/lib/python3.7/dist-packages (from detectron2-densepose==0.5) (1.7.1)\n",
            "Requirement already satisfied: torch>=1.9.0 in /usr/local/lib/python3.7/dist-packages (from detectron2-densepose==0.5) (1.9.0+cu102)\n",
            "Requirement already satisfied: torchvision>=0.10.0 in /usr/local/lib/python3.7/dist-packages (from detectron2-densepose==0.5) (0.10.0+cu102)\n",
            "Requirement already satisfied: Pillow>=7.1 in /usr/local/lib/python3.7/dist-packages (from detectron2@ git+https://github.com/facebookresearch/detectron2.git->detectron2-densepose==0.5) (7.1.2)\n",
            "Requirement already satisfied: matplotlib in /usr/local/lib/python3.7/dist-packages (from detectron2@ git+https://github.com/facebookresearch/detectron2.git->detectron2-densepose==0.5) (3.2.2)\n",
            "Requirement already satisfied: pycocotools>=2.0.2 in /usr/local/lib/python3.7/dist-packages (from detectron2@ git+https://github.com/facebookresearch/detectron2.git->detectron2-densepose==0.5) (2.0.2)\n",
            "Requirement already satisfied: termcolor>=1.1 in /usr/local/lib/python3.7/dist-packages (from detectron2@ git+https://github.com/facebookresearch/detectron2.git->detectron2-densepose==0.5) (1.1.0)\n",
            "Requirement already satisfied: yacs>=0.1.6 in /usr/local/lib/python3.7/dist-packages (from detectron2@ git+https://github.com/facebookresearch/detectron2.git->detectron2-densepose==0.5) (0.1.8)\n",
            "Requirement already satisfied: tabulate in /usr/local/lib/python3.7/dist-packages (from detectron2@ git+https://github.com/facebookresearch/detectron2.git->detectron2-densepose==0.5) (0.8.9)\n",
            "Requirement already satisfied: cloudpickle in /usr/local/lib/python3.7/dist-packages (from detectron2@ git+https://github.com/facebookresearch/detectron2.git->detectron2-densepose==0.5) (1.3.0)\n",
            "Requirement already satisfied: tqdm>4.29.0 in /usr/local/lib/python3.7/dist-packages (from detectron2@ git+https://github.com/facebookresearch/detectron2.git->detectron2-densepose==0.5) (4.62.0)\n",
            "Requirement already satisfied: tensorboard in /usr/local/lib/python3.7/dist-packages (from detectron2@ git+https://github.com/facebookresearch/detectron2.git->detectron2-densepose==0.5) (2.6.0)\n",
            "Requirement already satisfied: fvcore<0.1.6,>=0.1.5 in /usr/local/lib/python3.7/dist-packages (from detectron2@ git+https://github.com/facebookresearch/detectron2.git->detectron2-densepose==0.5) (0.1.5.post20210812)\n",
            "Requirement already satisfied: iopath<0.1.10,>=0.1.7 in /usr/local/lib/python3.7/dist-packages (from detectron2@ git+https://github.com/facebookresearch/detectron2.git->detectron2-densepose==0.5) (0.1.9)\n",
            "Requirement already satisfied: future in /usr/local/lib/python3.7/dist-packages (from detectron2@ git+https://github.com/facebookresearch/detectron2.git->detectron2-densepose==0.5) (0.16.0)\n",
            "Requirement already satisfied: pydot in /usr/local/lib/python3.7/dist-packages (from detectron2@ git+https://github.com/facebookresearch/detectron2.git->detectron2-densepose==0.5) (1.3.0)\n",
            "Requirement already satisfied: omegaconf>=2.1 in /usr/local/lib/python3.7/dist-packages (from detectron2@ git+https://github.com/facebookresearch/detectron2.git->detectron2-densepose==0.5) (2.1.1)\n",
            "Requirement already satisfied: hydra-core>=1.1 in /usr/local/lib/python3.7/dist-packages (from detectron2@ git+https://github.com/facebookresearch/detectron2.git->detectron2-densepose==0.5) (1.1.1)\n",
            "Requirement already satisfied: black==21.4b2 in /usr/local/lib/python3.7/dist-packages (from detectron2@ git+https://github.com/facebookresearch/detectron2.git->detectron2-densepose==0.5) (21.4b2)\n",
            "Requirement already satisfied: typing-extensions>=3.7.4 in /usr/local/lib/python3.7/dist-packages (from black==21.4b2->detectron2@ git+https://github.com/facebookresearch/detectron2.git->detectron2-densepose==0.5) (3.7.4.3)\n",
            "Requirement already satisfied: appdirs in /usr/local/lib/python3.7/dist-packages (from black==21.4b2->detectron2@ git+https://github.com/facebookresearch/detectron2.git->detectron2-densepose==0.5) (1.4.4)\n",
            "Requirement already satisfied: regex>=2020.1.8 in /usr/local/lib/python3.7/dist-packages (from black==21.4b2->detectron2@ git+https://github.com/facebookresearch/detectron2.git->detectron2-densepose==0.5) (2021.8.21)\n",
            "Requirement already satisfied: click>=7.1.2 in /usr/local/lib/python3.7/dist-packages (from black==21.4b2->detectron2@ git+https://github.com/facebookresearch/detectron2.git->detectron2-densepose==0.5) (7.1.2)\n",
            "Requirement already satisfied: toml>=0.10.1 in /usr/local/lib/python3.7/dist-packages (from black==21.4b2->detectron2@ git+https://github.com/facebookresearch/detectron2.git->detectron2-densepose==0.5) (0.10.2)\n",
            "Requirement already satisfied: pathspec<1,>=0.8.1 in /usr/local/lib/python3.7/dist-packages (from black==21.4b2->detectron2@ git+https://github.com/facebookresearch/detectron2.git->detectron2-densepose==0.5) (0.9.0)\n",
            "Requirement already satisfied: mypy-extensions>=0.4.3 in /usr/local/lib/python3.7/dist-packages (from black==21.4b2->detectron2@ git+https://github.com/facebookresearch/detectron2.git->detectron2-densepose==0.5) (0.4.3)\n",
            "Requirement already satisfied: typed-ast>=1.4.2 in /usr/local/lib/python3.7/dist-packages (from black==21.4b2->detectron2@ git+https://github.com/facebookresearch/detectron2.git->detectron2-densepose==0.5) (1.4.3)\n",
            "Requirement already satisfied: pyyaml>=5.1 in /usr/local/lib/python3.7/dist-packages (from fvcore<0.1.6,>=0.1.5->detectron2@ git+https://github.com/facebookresearch/detectron2.git->detectron2-densepose==0.5) (5.4.1)\n",
            "Requirement already satisfied: numpy in /usr/local/lib/python3.7/dist-packages (from fvcore<0.1.6,>=0.1.5->detectron2@ git+https://github.com/facebookresearch/detectron2.git->detectron2-densepose==0.5) (1.19.5)\n",
            "Requirement already satisfied: antlr4-python3-runtime==4.8 in /usr/local/lib/python3.7/dist-packages (from hydra-core>=1.1->detectron2@ git+https://github.com/facebookresearch/detectron2.git->detectron2-densepose==0.5) (4.8)\n",
            "Requirement already satisfied: importlib-resources in /usr/local/lib/python3.7/dist-packages (from hydra-core>=1.1->detectron2@ git+https://github.com/facebookresearch/detectron2.git->detectron2-densepose==0.5) (5.2.2)\n",
            "Requirement already satisfied: portalocker in /usr/local/lib/python3.7/dist-packages (from iopath<0.1.10,>=0.1.7->detectron2@ git+https://github.com/facebookresearch/detectron2.git->detectron2-densepose==0.5) (2.3.1)\n",
            "Requirement already satisfied: cython>=0.27.3 in /usr/local/lib/python3.7/dist-packages (from pycocotools>=2.0.2->detectron2@ git+https://github.com/facebookresearch/detectron2.git->detectron2-densepose==0.5) (0.29.24)\n",
            "Requirement already satisfied: setuptools>=18.0 in /usr/local/lib/python3.7/dist-packages (from pycocotools>=2.0.2->detectron2@ git+https://github.com/facebookresearch/detectron2.git->detectron2-densepose==0.5) (57.4.0)\n",
            "Requirement already satisfied: kiwisolver>=1.0.1 in /usr/local/lib/python3.7/dist-packages (from matplotlib->detectron2@ git+https://github.com/facebookresearch/detectron2.git->detectron2-densepose==0.5) (1.3.1)\n",
            "Requirement already satisfied: cycler>=0.10 in /usr/local/lib/python3.7/dist-packages (from matplotlib->detectron2@ git+https://github.com/facebookresearch/detectron2.git->detectron2-densepose==0.5) (0.10.0)\n",
            "Requirement already satisfied: pyparsing!=2.0.4,!=2.1.2,!=2.1.6,>=2.0.1 in /usr/local/lib/python3.7/dist-packages (from matplotlib->detectron2@ git+https://github.com/facebookresearch/detectron2.git->detectron2-densepose==0.5) (2.4.7)\n",
            "Requirement already satisfied: python-dateutil>=2.1 in /usr/local/lib/python3.7/dist-packages (from matplotlib->detectron2@ git+https://github.com/facebookresearch/detectron2.git->detectron2-densepose==0.5) (2.8.2)\n",
            "Requirement already satisfied: six in /usr/local/lib/python3.7/dist-packages (from cycler>=0.10->matplotlib->detectron2@ git+https://github.com/facebookresearch/detectron2.git->detectron2-densepose==0.5) (1.15.0)\n",
            "Requirement already satisfied: zipp>=3.1.0 in /usr/local/lib/python3.7/dist-packages (from importlib-resources->hydra-core>=1.1->detectron2@ git+https://github.com/facebookresearch/detectron2.git->detectron2-densepose==0.5) (3.5.0)\n",
            "Requirement already satisfied: grpcio>=1.24.3 in /usr/local/lib/python3.7/dist-packages (from tensorboard->detectron2@ git+https://github.com/facebookresearch/detectron2.git->detectron2-densepose==0.5) (1.39.0)\n",
            "Requirement already satisfied: google-auth<2,>=1.6.3 in /usr/local/lib/python3.7/dist-packages (from tensorboard->detectron2@ git+https://github.com/facebookresearch/detectron2.git->detectron2-densepose==0.5) (1.34.0)\n",
            "Requirement already satisfied: werkzeug>=0.11.15 in /usr/local/lib/python3.7/dist-packages (from tensorboard->detectron2@ git+https://github.com/facebookresearch/detectron2.git->detectron2-densepose==0.5) (1.0.1)\n",
            "Requirement already satisfied: absl-py>=0.4 in /usr/local/lib/python3.7/dist-packages (from tensorboard->detectron2@ git+https://github.com/facebookresearch/detectron2.git->detectron2-densepose==0.5) (0.12.0)\n",
            "Requirement already satisfied: google-auth-oauthlib<0.5,>=0.4.1 in /usr/local/lib/python3.7/dist-packages (from tensorboard->detectron2@ git+https://github.com/facebookresearch/detectron2.git->detectron2-densepose==0.5) (0.4.5)\n",
            "Requirement already satisfied: protobuf>=3.6.0 in /usr/local/lib/python3.7/dist-packages (from tensorboard->detectron2@ git+https://github.com/facebookresearch/detectron2.git->detectron2-densepose==0.5) (3.17.3)\n",
            "Requirement already satisfied: requests<3,>=2.21.0 in /usr/local/lib/python3.7/dist-packages (from tensorboard->detectron2@ git+https://github.com/facebookresearch/detectron2.git->detectron2-densepose==0.5) (2.23.0)\n",
            "Requirement already satisfied: tensorboard-data-server<0.7.0,>=0.6.0 in /usr/local/lib/python3.7/dist-packages (from tensorboard->detectron2@ git+https://github.com/facebookresearch/detectron2.git->detectron2-densepose==0.5) (0.6.1)\n",
            "Requirement already satisfied: wheel>=0.26 in /usr/local/lib/python3.7/dist-packages (from tensorboard->detectron2@ git+https://github.com/facebookresearch/detectron2.git->detectron2-densepose==0.5) (0.37.0)\n",
            "Requirement already satisfied: tensorboard-plugin-wit>=1.6.0 in /usr/local/lib/python3.7/dist-packages (from tensorboard->detectron2@ git+https://github.com/facebookresearch/detectron2.git->detectron2-densepose==0.5) (1.8.0)\n",
            "Requirement already satisfied: markdown>=2.6.8 in /usr/local/lib/python3.7/dist-packages (from tensorboard->detectron2@ git+https://github.com/facebookresearch/detectron2.git->detectron2-densepose==0.5) (3.3.4)\n",
            "Requirement already satisfied: pyasn1-modules>=0.2.1 in /usr/local/lib/python3.7/dist-packages (from google-auth<2,>=1.6.3->tensorboard->detectron2@ git+https://github.com/facebookresearch/detectron2.git->detectron2-densepose==0.5) (0.2.8)\n",
            "Requirement already satisfied: cachetools<5.0,>=2.0.0 in /usr/local/lib/python3.7/dist-packages (from google-auth<2,>=1.6.3->tensorboard->detectron2@ git+https://github.com/facebookresearch/detectron2.git->detectron2-densepose==0.5) (4.2.2)\n",
            "Requirement already satisfied: rsa<5,>=3.1.4 in /usr/local/lib/python3.7/dist-packages (from google-auth<2,>=1.6.3->tensorboard->detectron2@ git+https://github.com/facebookresearch/detectron2.git->detectron2-densepose==0.5) (4.7.2)\n",
            "Requirement already satisfied: requests-oauthlib>=0.7.0 in /usr/local/lib/python3.7/dist-packages (from google-auth-oauthlib<0.5,>=0.4.1->tensorboard->detectron2@ git+https://github.com/facebookresearch/detectron2.git->detectron2-densepose==0.5) (1.3.0)\n",
            "Requirement already satisfied: importlib-metadata in /usr/local/lib/python3.7/dist-packages (from markdown>=2.6.8->tensorboard->detectron2@ git+https://github.com/facebookresearch/detectron2.git->detectron2-densepose==0.5) (4.6.4)\n",
            "Requirement already satisfied: pyasn1<0.5.0,>=0.4.6 in /usr/local/lib/python3.7/dist-packages (from pyasn1-modules>=0.2.1->google-auth<2,>=1.6.3->tensorboard->detectron2@ git+https://github.com/facebookresearch/detectron2.git->detectron2-densepose==0.5) (0.4.8)\n",
            "Requirement already satisfied: chardet<4,>=3.0.2 in /usr/local/lib/python3.7/dist-packages (from requests<3,>=2.21.0->tensorboard->detectron2@ git+https://github.com/facebookresearch/detectron2.git->detectron2-densepose==0.5) (3.0.4)\n",
            "Requirement already satisfied: idna<3,>=2.5 in /usr/local/lib/python3.7/dist-packages (from requests<3,>=2.21.0->tensorboard->detectron2@ git+https://github.com/facebookresearch/detectron2.git->detectron2-densepose==0.5) (2.10)\n",
            "Requirement already satisfied: urllib3!=1.25.0,!=1.25.1,<1.26,>=1.21.1 in /usr/local/lib/python3.7/dist-packages (from requests<3,>=2.21.0->tensorboard->detectron2@ git+https://github.com/facebookresearch/detectron2.git->detectron2-densepose==0.5) (1.24.3)\n",
            "Requirement already satisfied: certifi>=2017.4.17 in /usr/local/lib/python3.7/dist-packages (from requests<3,>=2.21.0->tensorboard->detectron2@ git+https://github.com/facebookresearch/detectron2.git->detectron2-densepose==0.5) (2021.5.30)\n",
            "Requirement already satisfied: oauthlib>=3.0.0 in /usr/local/lib/python3.7/dist-packages (from requests-oauthlib>=0.7.0->google-auth-oauthlib<0.5,>=0.4.1->tensorboard->detectron2@ git+https://github.com/facebookresearch/detectron2.git->detectron2-densepose==0.5) (3.1.1)\n"
          ],
          "name": "stdout"
        }
      ]
    },
    {
      "cell_type": "code",
      "metadata": {
        "colab": {
          "base_uri": "https://localhost:8080/"
        },
        "id": "iZOEs0b172_w",
        "outputId": "069ff9f7-f9c5-4cc4-a319-abfb154173a6"
      },
      "source": [
        "cd /content/detectron2/projects/DensePose"
      ],
      "execution_count": null,
      "outputs": [
        {
          "output_type": "stream",
          "text": [
            "/content/detectron2/projects/DensePose\n"
          ],
          "name": "stdout"
        }
      ]
    },
    {
      "cell_type": "code",
      "metadata": {
        "colab": {
          "base_uri": "https://localhost:8080/"
        },
        "id": "rxYsXgeL6xsu",
        "outputId": "8587ea5c-3ec2-411d-8cad-79f2ba68db9c"
      },
      "source": [
        "! python apply_net.py show configs/densepose_rcnn_R_50_FPN_s1x.yaml /content/drive/MyDrive/models/model_final_d366fa.pkl /content/drive/MyDrive/ex.mp4 dp_contour,bbox --output outt.mp4"
      ],
      "execution_count": null,
      "outputs": [
        {
          "output_type": "stream",
          "text": [
            "Skip loading parameter 'roi_heads.densepose_predictor.ann_index_lowres.weight' to the model due to incompatible shapes: (512, 15, 4, 4) in the checkpoint but (512, 2, 4, 4) in the model! You might want to double check if this is expected.\n",
            "Skip loading parameter 'roi_heads.densepose_predictor.ann_index_lowres.bias' to the model due to incompatible shapes: (15,) in the checkpoint but (2,) in the model! You might want to double check if this is expected.\n",
            "Some model parameters or buffers are not found in the checkpoint:\n",
            "\u001b[34mroi_heads.decoder.p2.0.{bias, weight}\u001b[0m\n",
            "\u001b[34mroi_heads.decoder.p3.0.{bias, weight}\u001b[0m\n",
            "\u001b[34mroi_heads.decoder.p4.0.{bias, weight}\u001b[0m\n",
            "\u001b[34mroi_heads.decoder.p4.2.{bias, weight}\u001b[0m\n",
            "\u001b[34mroi_heads.decoder.p5.0.{bias, weight}\u001b[0m\n",
            "\u001b[34mroi_heads.decoder.p5.2.{bias, weight}\u001b[0m\n",
            "\u001b[34mroi_heads.decoder.p5.4.{bias, weight}\u001b[0m\n",
            "\u001b[34mroi_heads.decoder.predictor.{bias, weight}\u001b[0m\n",
            "\u001b[34mroi_heads.densepose_predictor.ann_index_lowres.{bias, weight}\u001b[0m\n",
            "\u001b[5m\u001b[31mWARNING\u001b[0m \u001b[32m[08/12 09:58:31 apply_net]: \u001b[0mNo input images for /content/drive/MyDrive/ex.mp4\n"
          ],
          "name": "stdout"
        }
      ]
    },
    {
      "cell_type": "code",
      "metadata": {
        "id": "VaKp2wUp_NJq"
      },
      "source": [
        "import os\n",
        "import numpy as np\n",
        "c = 0\n",
        "for i in os.listdir('/content/drive/MyDrive/yoga/yoga_82_wrongs'):\n",
        "  for j in os.listdir('/content/drive/MyDrive/yoga/yoga_82_wrongs/'+i):\n",
        "    if c>=0:\n",
        "     os.system(\"python apply_net.py dump configs/densepose_rcnn_R_101_FPN_s1x_legacy.yaml /content/drive/MyDrive/models/model_final_10af0e.pkl /content/drive/MyDrive/yoga/yoga_82_wrongs/\"+i+\"/\"+j+\" --output /content/drive/MyDrive/yoga/densepose_outputs/\"+i+\"/\"+j+\".pkl -v\")\n",
        "    c = c+1\n",
        "    np.save(\"/content/drive/MyDrive/yoga/c.npy\",c)\n"
      ],
      "execution_count": null,
      "outputs": []
    },
    {
      "cell_type": "code",
      "metadata": {
        "colab": {
          "base_uri": "https://localhost:8080/"
        },
        "id": "LxQjAIp1t3b4",
        "outputId": "a1fa04a8-072d-4d6b-c8eb-7c309c5dbce1"
      },
      "source": [
        "import numpy as np\n",
        "print(np.load(\"/content/drive/MyDrive/yoga/c.npy\"))"
      ],
      "execution_count": null,
      "outputs": [
        {
          "output_type": "stream",
          "text": [
            "751\n"
          ],
          "name": "stdout"
        }
      ]
    },
    {
      "cell_type": "code",
      "metadata": {
        "colab": {
          "base_uri": "https://localhost:8080/"
        },
        "id": "Y0llHm5s8bJj",
        "outputId": "adeef170-829e-4e3b-ea06-eab2a2b3caa6"
      },
      "source": [
        "! python apply_net.py dump configs/densepose_rcnn_R_101_FPN_s1x_legacy.yaml /content/drive/MyDrive/models/model_final_10af0e.pkl /content/drive/MyDrive/hel.jpg --output dump.pkl -v"
      ],
      "execution_count": null,
      "outputs": [
        {
          "output_type": "stream",
          "text": [
            "\u001b[32m[08/10 11:57:05 apply_net]: \u001b[0mLoading config from configs/densepose_rcnn_R_101_FPN_s1x_legacy.yaml\n",
            "\u001b[32m[08/10 11:57:05 apply_net]: \u001b[0mLoading model from /content/drive/MyDrive/models/model_final_10af0e.pkl\n",
            "\u001b[32m[08/10 11:57:09 apply_net]: \u001b[0mLoading data from /content/drive/MyDrive/hel.jpg\n",
            "/usr/local/lib/python3.7/dist-packages/torch/_tensor.py:575: UserWarning: floor_divide is deprecated, and will be removed in a future version of pytorch. It currently rounds toward 0 (like the 'trunc' function NOT 'floor'). This results in incorrect rounding for negative values.\n",
            "To keep the current behavior, use torch.div(a, b, rounding_mode='trunc'), or for actual floor division, use torch.div(a, b, rounding_mode='floor'). (Triggered internally at  /pytorch/aten/src/ATen/native/BinaryOps.cpp:467.)\n",
            "  return torch.floor_divide(self, other)\n",
            "/usr/local/lib/python3.7/dist-packages/torch/nn/functional.py:718: UserWarning: Named tensors and all their associated APIs are an experimental feature and subject to change. Please do not use them for anything important until they are released as stable. (Triggered internally at  /pytorch/c10/core/TensorImpl.h:1156.)\n",
            "  return torch.max_pool2d(input, kernel_size, stride, padding, dilation, ceil_mode)\n",
            "\u001b[32m[08/10 11:57:09 apply_net]: \u001b[0mProcessing /content/drive/MyDrive/hel.jpg\n",
            "/content/detectron2/projects/DensePose/densepose/vis/densepose_results.py:133: UserWarning: The following kwargs were not used by contour: 'cfg', 'texture_atlas', 'texture_atlases_dict'\n",
            "  plt.contour(u, self.levels, extent=extent, **self.plot_args)\n",
            "/content/detectron2/projects/DensePose/densepose/vis/densepose_results.py:134: UserWarning: The following kwargs were not used by contour: 'cfg', 'texture_atlas', 'texture_atlases_dict'\n",
            "  plt.contour(v, self.levels, extent=extent, **self.plot_args)\n",
            "\u001b[32m[08/10 11:57:10 apply_net]: \u001b[0mOutput saved to outputres.0001.png\n"
          ],
          "name": "stdout"
        }
      ]
    },
    {
      "cell_type": "code",
      "metadata": {
        "id": "ax4ztlBwMWlj"
      },
      "source": [
        "img_id, instance_id = 0, 0  # Look at the first image and the first detected instance\n",
        "bbox_xyxy = data[img_id]['pred_boxes_XYXY'][instance_id]\n",
        "result = data[img_id]['pred_densepose'][instance_id]\n",
        "uv = result.uv"
      ],
      "execution_count": null,
      "outputs": []
    },
    {
      "cell_type": "markdown",
      "metadata": {
        "id": "ARKBT3wr7rf5"
      },
      "source": [
        "# DensePose for Videos"
      ]
    },
    {
      "cell_type": "code",
      "metadata": {
        "id": "Uqh2iZ87aYkz"
      },
      "source": [
        "#Converting Videos to Frames\n",
        "import cv2\n",
        "import numpy as np\n",
        "import glob\n",
        "import os\n",
        "\n",
        "list_files = []\n",
        "for i in glob.glob('/content/drive/MyDrive/Stimulus/AU/*.mp4'):\n",
        " list_files.append(i)\n",
        "\n",
        "for dir in list_files:\n",
        " print(dir)\n",
        " os.system(\"mkdir /content/drive/MyDrive/temp\")\n",
        " os.system(\"mkdir /content/drive/MyDrive/temp1\")\n",
        "\n",
        " #Opens the Video file and extracts all its frames\n",
        " cap= cv2.VideoCapture(dir)\n",
        " i=0\n",
        " while(cap.isOpened()):\n",
        "  ret, frame = cap.read()\n",
        "  if ret == False:\n",
        "    break\n",
        "  cv2.imwrite('/content/drive/MyDrive/temp/'+str(i)+'.jpg',frame)\n",
        "  os.system(\"python apply_net.py show configs/densepose_rcnn_R_101_FPN_s1x_legacy.yaml /content/drive/MyDrive/models/model_final_10af0e.pkl /content/drive/MyDrive/temp/\"+str(i)+\".jpg dp_contour --output /content/drive/MyDrive/temp1/\"+str(i)+\".jpg\")\n",
        "  i+=1\n",
        "\n",
        " cap.release()\n",
        " #cv2.destroyAllWindows()\n",
        "\n",
        " # Getting the frame rate\n",
        " video = cv2.VideoCapture(dir);\n",
        " # Find OpenCV version\n",
        " (major_ver, minor_ver, subminor_ver) = (cv2.__version__).split('.')\n",
        " if int(major_ver)  < 3 :\n",
        "  fps = video.get(cv2.cv.CV_CAP_PROP_FPS)\n",
        " else :\n",
        "  fps = video.get(cv2.CAP_PROP_FPS)\n",
        " video.release()\n",
        "\n",
        " # Combining Frames to form a video\n",
        "\n",
        " img_array = []\n",
        " for filename in glob.glob('/content/drive/MyDrive/temp1/*.jpg'):\n",
        "    img = cv2.imread(filename)\n",
        "    print(filename)\n",
        "    height, width, layers = img.shape\n",
        "    size = (width,height)\n",
        "    img_array.append(img)\n",
        "\n",
        " out = cv2.VideoWriter(dir,cv2.VideoWriter_fourcc(*'DIVX'), fps, size)\n",
        " \n",
        " for i in range(len(img_array)):\n",
        "    out.write(img_array[i])\n",
        " out.release()\n",
        " os.system(\"rm -r /content/drive/MyDrive/temp\")\n",
        " os.system(\"rm -r /content/drive/MyDrive/temp1\")\n",
        " #np.save(\"/content/drive/MyDrivelist.npy\",dir)\n",
        "\n",
        "\n",
        "\n"
      ],
      "execution_count": null,
      "outputs": []
    }
  ]
}