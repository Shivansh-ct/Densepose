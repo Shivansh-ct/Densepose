{
  "nbformat": 4,
  "nbformat_minor": 0,
  "metadata": {
    "colab": {
      "name": "Densepose.ipynb",
      "provenance": [],
      "mount_file_id": "1XFg6gSUpcuIaZoFPYRca8wVAGUy1SX58",
      "authorship_tag": "ABX9TyNEbksf8gUl0pbNQFfn/Ndk",
      "include_colab_link": true
    },
    "kernelspec": {
      "name": "python3",
      "display_name": "Python 3"
    },
    "language_info": {
      "name": "python"
    },
    "accelerator": "GPU"
  },
  "cells": [
    {
      "cell_type": "markdown",
      "metadata": {
        "id": "view-in-github",
        "colab_type": "text"
      },
      "source": [
        "<a href=\"https://colab.research.google.com/github/Shivansh-ct/Densepose/blob/main/Densepose.ipynb\" target=\"_parent\"><img src=\"https://colab.research.google.com/assets/colab-badge.svg\" alt=\"Open In Colab\"/></a>"
      ]
    },
    {
      "cell_type": "code",
      "metadata": {
        "colab": {
          "base_uri": "https://localhost:8080/"
        },
        "id": "6m1OVMP654O1",
        "outputId": "cf035baa-4572-4ebb-c848-d081a6b8c94f"
      },
      "source": [
        "! git clone 'https://github.com/facebookresearch/detectron2.git'"
      ],
      "execution_count": null,
      "outputs": [
        {
          "output_type": "stream",
          "text": [
            "Cloning into 'detectron2'...\n",
            "remote: Enumerating objects: 12917, done.\u001b[K\n",
            "remote: Counting objects: 100% (418/418), done.\u001b[K\n",
            "remote: Compressing objects: 100% (253/253), done.\u001b[K\n",
            "remote: Total 12917 (delta 217), reused 316 (delta 162), pack-reused 12499\u001b[K\n",
            "Receiving objects: 100% (12917/12917), 5.53 MiB | 16.10 MiB/s, done.\n",
            "Resolving deltas: 100% (9173/9173), done.\n"
          ],
          "name": "stdout"
        }
      ]
    },
    {
      "cell_type": "code",
      "metadata": {
        "colab": {
          "base_uri": "https://localhost:8080/"
        },
        "id": "QZjzf-kY54Lt",
        "outputId": "a50423bb-c378-450d-f573-f74389729e66"
      },
      "source": [
        "cd /content/detectron2/projects/DensePose"
      ],
      "execution_count": null,
      "outputs": [
        {
          "output_type": "stream",
          "text": [
            "/content/detectron2/projects/DensePose\n"
          ],
          "name": "stdout"
        }
      ]
    },
    {
      "cell_type": "code",
      "metadata": {
        "colab": {
          "base_uri": "https://localhost:8080/",
          "height": 1000
        },
        "id": "5luI4K1K54CV",
        "outputId": "186c212b-0e87-403f-efe3-8c7b32ac626e"
      },
      "source": [
        "! pip install git+https://github.com/facebookresearch/detectron2@master#subdirectory=projects/DensePose\n"
      ],
      "execution_count": null,
      "outputs": [
        {
          "output_type": "stream",
          "text": [
            "Collecting git+https://github.com/facebookresearch/detectron2@master#subdirectory=projects/DensePose\n",
            "  Cloning https://github.com/facebookresearch/detectron2 (to revision master) to /tmp/pip-req-build-qx280dl1\n",
            "  Running command git clone -q https://github.com/facebookresearch/detectron2 /tmp/pip-req-build-qx280dl1\n",
            "Collecting detectron2@ git+https://github.com/facebookresearch/detectron2.git\n",
            "  Cloning https://github.com/facebookresearch/detectron2.git to /tmp/pip-install-itzaknrt/detectron2_33434e3bd48242ce93adf299c03003d9\n",
            "  Running command git clone -q https://github.com/facebookresearch/detectron2.git /tmp/pip-install-itzaknrt/detectron2_33434e3bd48242ce93adf299c03003d9\n",
            "Collecting av>=8.0.3\n",
            "  Downloading av-8.0.3-cp37-cp37m-manylinux2010_x86_64.whl (37.2 MB)\n",
            "\u001b[K     |████████████████████████████████| 37.2 MB 29 kB/s \n",
            "\u001b[?25hCollecting opencv-python-headless>=4.5.3.56\n",
            "  Downloading opencv_python_headless-4.5.3.56-cp37-cp37m-manylinux2014_x86_64.whl (37.1 MB)\n",
            "\u001b[K     |████████████████████████████████| 37.1 MB 39 kB/s \n",
            "\u001b[?25hCollecting scipy>=1.5.4\n",
            "  Downloading scipy-1.7.1-cp37-cp37m-manylinux_2_5_x86_64.manylinux1_x86_64.whl (28.5 MB)\n",
            "\u001b[K     |████████████████████████████████| 28.5 MB 50 kB/s \n",
            "\u001b[?25hRequirement already satisfied: torch>=1.9.0 in /usr/local/lib/python3.7/dist-packages (from detectron2-densepose==0.5) (1.9.0+cu102)\n",
            "Requirement already satisfied: torchvision>=0.10.0 in /usr/local/lib/python3.7/dist-packages (from detectron2-densepose==0.5) (0.10.0+cu102)\n",
            "Requirement already satisfied: Pillow>=7.1 in /usr/local/lib/python3.7/dist-packages (from detectron2@ git+https://github.com/facebookresearch/detectron2.git->detectron2-densepose==0.5) (7.1.2)\n",
            "Requirement already satisfied: matplotlib in /usr/local/lib/python3.7/dist-packages (from detectron2@ git+https://github.com/facebookresearch/detectron2.git->detectron2-densepose==0.5) (3.2.2)\n",
            "Requirement already satisfied: pycocotools>=2.0.2 in /usr/local/lib/python3.7/dist-packages (from detectron2@ git+https://github.com/facebookresearch/detectron2.git->detectron2-densepose==0.5) (2.0.2)\n",
            "Requirement already satisfied: termcolor>=1.1 in /usr/local/lib/python3.7/dist-packages (from detectron2@ git+https://github.com/facebookresearch/detectron2.git->detectron2-densepose==0.5) (1.1.0)\n",
            "Collecting yacs>=0.1.6\n",
            "  Downloading yacs-0.1.8-py3-none-any.whl (14 kB)\n",
            "Requirement already satisfied: tabulate in /usr/local/lib/python3.7/dist-packages (from detectron2@ git+https://github.com/facebookresearch/detectron2.git->detectron2-densepose==0.5) (0.8.9)\n",
            "Requirement already satisfied: cloudpickle in /usr/local/lib/python3.7/dist-packages (from detectron2@ git+https://github.com/facebookresearch/detectron2.git->detectron2-densepose==0.5) (1.3.0)\n",
            "Requirement already satisfied: tqdm>4.29.0 in /usr/local/lib/python3.7/dist-packages (from detectron2@ git+https://github.com/facebookresearch/detectron2.git->detectron2-densepose==0.5) (4.62.0)\n",
            "Requirement already satisfied: tensorboard in /usr/local/lib/python3.7/dist-packages (from detectron2@ git+https://github.com/facebookresearch/detectron2.git->detectron2-densepose==0.5) (2.6.0)\n",
            "Collecting fvcore<0.1.6,>=0.1.5\n",
            "  Downloading fvcore-0.1.5.post20210825.tar.gz (49 kB)\n",
            "\u001b[K     |████████████████████████████████| 49 kB 5.6 MB/s \n",
            "\u001b[?25hCollecting iopath<0.1.10,>=0.1.7\n",
            "  Downloading iopath-0.1.9-py3-none-any.whl (27 kB)\n",
            "Requirement already satisfied: future in /usr/local/lib/python3.7/dist-packages (from detectron2@ git+https://github.com/facebookresearch/detectron2.git->detectron2-densepose==0.5) (0.16.0)\n",
            "Requirement already satisfied: pydot in /usr/local/lib/python3.7/dist-packages (from detectron2@ git+https://github.com/facebookresearch/detectron2.git->detectron2-densepose==0.5) (1.3.0)\n",
            "Collecting omegaconf>=2.1\n",
            "  Downloading omegaconf-2.1.1-py3-none-any.whl (74 kB)\n",
            "\u001b[K     |████████████████████████████████| 74 kB 3.4 MB/s \n",
            "\u001b[?25hCollecting hydra-core>=1.1\n",
            "  Downloading hydra_core-1.1.1-py3-none-any.whl (145 kB)\n",
            "\u001b[K     |████████████████████████████████| 145 kB 49.4 MB/s \n",
            "\u001b[?25hCollecting black==21.4b2\n",
            "  Downloading black-21.4b2-py3-none-any.whl (130 kB)\n",
            "\u001b[K     |████████████████████████████████| 130 kB 46.9 MB/s \n",
            "\u001b[?25hRequirement already satisfied: appdirs in /usr/local/lib/python3.7/dist-packages (from black==21.4b2->detectron2@ git+https://github.com/facebookresearch/detectron2.git->detectron2-densepose==0.5) (1.4.4)\n",
            "Collecting typed-ast>=1.4.2\n",
            "  Downloading typed_ast-1.4.3-cp37-cp37m-manylinux1_x86_64.whl (743 kB)\n",
            "\u001b[K     |████████████████████████████████| 743 kB 43.6 MB/s \n",
            "\u001b[?25hCollecting regex>=2020.1.8\n",
            "  Downloading regex-2021.8.21-cp37-cp37m-manylinux_2_17_x86_64.manylinux2014_x86_64.whl (747 kB)\n",
            "\u001b[K     |████████████████████████████████| 747 kB 26.6 MB/s \n",
            "\u001b[?25hCollecting pathspec<1,>=0.8.1\n",
            "  Downloading pathspec-0.9.0-py2.py3-none-any.whl (31 kB)\n",
            "Collecting mypy-extensions>=0.4.3\n",
            "  Downloading mypy_extensions-0.4.3-py2.py3-none-any.whl (4.5 kB)\n",
            "Requirement already satisfied: click>=7.1.2 in /usr/local/lib/python3.7/dist-packages (from black==21.4b2->detectron2@ git+https://github.com/facebookresearch/detectron2.git->detectron2-densepose==0.5) (7.1.2)\n",
            "Requirement already satisfied: typing-extensions>=3.7.4 in /usr/local/lib/python3.7/dist-packages (from black==21.4b2->detectron2@ git+https://github.com/facebookresearch/detectron2.git->detectron2-densepose==0.5) (3.7.4.3)\n",
            "Requirement already satisfied: toml>=0.10.1 in /usr/local/lib/python3.7/dist-packages (from black==21.4b2->detectron2@ git+https://github.com/facebookresearch/detectron2.git->detectron2-densepose==0.5) (0.10.2)\n",
            "Requirement already satisfied: numpy in /usr/local/lib/python3.7/dist-packages (from fvcore<0.1.6,>=0.1.5->detectron2@ git+https://github.com/facebookresearch/detectron2.git->detectron2-densepose==0.5) (1.19.5)\n",
            "Collecting pyyaml>=5.1\n",
            "  Downloading PyYAML-5.4.1-cp37-cp37m-manylinux1_x86_64.whl (636 kB)\n",
            "\u001b[K     |████████████████████████████████| 636 kB 41.0 MB/s \n",
            "\u001b[?25hCollecting antlr4-python3-runtime==4.8\n",
            "  Downloading antlr4-python3-runtime-4.8.tar.gz (112 kB)\n",
            "\u001b[K     |████████████████████████████████| 112 kB 54.4 MB/s \n",
            "\u001b[?25hRequirement already satisfied: importlib-resources in /usr/local/lib/python3.7/dist-packages (from hydra-core>=1.1->detectron2@ git+https://github.com/facebookresearch/detectron2.git->detectron2-densepose==0.5) (5.2.2)\n",
            "Collecting portalocker\n",
            "  Downloading portalocker-2.3.1-py2.py3-none-any.whl (15 kB)\n",
            "Requirement already satisfied: setuptools>=18.0 in /usr/local/lib/python3.7/dist-packages (from pycocotools>=2.0.2->detectron2@ git+https://github.com/facebookresearch/detectron2.git->detectron2-densepose==0.5) (57.4.0)\n",
            "Requirement already satisfied: cython>=0.27.3 in /usr/local/lib/python3.7/dist-packages (from pycocotools>=2.0.2->detectron2@ git+https://github.com/facebookresearch/detectron2.git->detectron2-densepose==0.5) (0.29.24)\n",
            "Requirement already satisfied: kiwisolver>=1.0.1 in /usr/local/lib/python3.7/dist-packages (from matplotlib->detectron2@ git+https://github.com/facebookresearch/detectron2.git->detectron2-densepose==0.5) (1.3.1)\n",
            "Requirement already satisfied: pyparsing!=2.0.4,!=2.1.2,!=2.1.6,>=2.0.1 in /usr/local/lib/python3.7/dist-packages (from matplotlib->detectron2@ git+https://github.com/facebookresearch/detectron2.git->detectron2-densepose==0.5) (2.4.7)\n",
            "Requirement already satisfied: python-dateutil>=2.1 in /usr/local/lib/python3.7/dist-packages (from matplotlib->detectron2@ git+https://github.com/facebookresearch/detectron2.git->detectron2-densepose==0.5) (2.8.2)\n",
            "Requirement already satisfied: cycler>=0.10 in /usr/local/lib/python3.7/dist-packages (from matplotlib->detectron2@ git+https://github.com/facebookresearch/detectron2.git->detectron2-densepose==0.5) (0.10.0)\n",
            "Requirement already satisfied: six in /usr/local/lib/python3.7/dist-packages (from cycler>=0.10->matplotlib->detectron2@ git+https://github.com/facebookresearch/detectron2.git->detectron2-densepose==0.5) (1.15.0)\n",
            "Requirement already satisfied: zipp>=3.1.0 in /usr/local/lib/python3.7/dist-packages (from importlib-resources->hydra-core>=1.1->detectron2@ git+https://github.com/facebookresearch/detectron2.git->detectron2-densepose==0.5) (3.5.0)\n",
            "Requirement already satisfied: markdown>=2.6.8 in /usr/local/lib/python3.7/dist-packages (from tensorboard->detectron2@ git+https://github.com/facebookresearch/detectron2.git->detectron2-densepose==0.5) (3.3.4)\n",
            "Requirement already satisfied: absl-py>=0.4 in /usr/local/lib/python3.7/dist-packages (from tensorboard->detectron2@ git+https://github.com/facebookresearch/detectron2.git->detectron2-densepose==0.5) (0.12.0)\n",
            "Requirement already satisfied: protobuf>=3.6.0 in /usr/local/lib/python3.7/dist-packages (from tensorboard->detectron2@ git+https://github.com/facebookresearch/detectron2.git->detectron2-densepose==0.5) (3.17.3)\n",
            "Requirement already satisfied: wheel>=0.26 in /usr/local/lib/python3.7/dist-packages (from tensorboard->detectron2@ git+https://github.com/facebookresearch/detectron2.git->detectron2-densepose==0.5) (0.37.0)\n",
            "Requirement already satisfied: google-auth<2,>=1.6.3 in /usr/local/lib/python3.7/dist-packages (from tensorboard->detectron2@ git+https://github.com/facebookresearch/detectron2.git->detectron2-densepose==0.5) (1.34.0)\n",
            "Requirement already satisfied: google-auth-oauthlib<0.5,>=0.4.1 in /usr/local/lib/python3.7/dist-packages (from tensorboard->detectron2@ git+https://github.com/facebookresearch/detectron2.git->detectron2-densepose==0.5) (0.4.5)\n",
            "Requirement already satisfied: tensorboard-data-server<0.7.0,>=0.6.0 in /usr/local/lib/python3.7/dist-packages (from tensorboard->detectron2@ git+https://github.com/facebookresearch/detectron2.git->detectron2-densepose==0.5) (0.6.1)\n",
            "Requirement already satisfied: tensorboard-plugin-wit>=1.6.0 in /usr/local/lib/python3.7/dist-packages (from tensorboard->detectron2@ git+https://github.com/facebookresearch/detectron2.git->detectron2-densepose==0.5) (1.8.0)\n",
            "Requirement already satisfied: requests<3,>=2.21.0 in /usr/local/lib/python3.7/dist-packages (from tensorboard->detectron2@ git+https://github.com/facebookresearch/detectron2.git->detectron2-densepose==0.5) (2.23.0)\n",
            "Requirement already satisfied: grpcio>=1.24.3 in /usr/local/lib/python3.7/dist-packages (from tensorboard->detectron2@ git+https://github.com/facebookresearch/detectron2.git->detectron2-densepose==0.5) (1.39.0)\n",
            "Requirement already satisfied: werkzeug>=0.11.15 in /usr/local/lib/python3.7/dist-packages (from tensorboard->detectron2@ git+https://github.com/facebookresearch/detectron2.git->detectron2-densepose==0.5) (1.0.1)\n",
            "Requirement already satisfied: rsa<5,>=3.1.4 in /usr/local/lib/python3.7/dist-packages (from google-auth<2,>=1.6.3->tensorboard->detectron2@ git+https://github.com/facebookresearch/detectron2.git->detectron2-densepose==0.5) (4.7.2)\n",
            "Requirement already satisfied: pyasn1-modules>=0.2.1 in /usr/local/lib/python3.7/dist-packages (from google-auth<2,>=1.6.3->tensorboard->detectron2@ git+https://github.com/facebookresearch/detectron2.git->detectron2-densepose==0.5) (0.2.8)\n",
            "Requirement already satisfied: cachetools<5.0,>=2.0.0 in /usr/local/lib/python3.7/dist-packages (from google-auth<2,>=1.6.3->tensorboard->detectron2@ git+https://github.com/facebookresearch/detectron2.git->detectron2-densepose==0.5) (4.2.2)\n",
            "Requirement already satisfied: requests-oauthlib>=0.7.0 in /usr/local/lib/python3.7/dist-packages (from google-auth-oauthlib<0.5,>=0.4.1->tensorboard->detectron2@ git+https://github.com/facebookresearch/detectron2.git->detectron2-densepose==0.5) (1.3.0)\n",
            "Requirement already satisfied: importlib-metadata in /usr/local/lib/python3.7/dist-packages (from markdown>=2.6.8->tensorboard->detectron2@ git+https://github.com/facebookresearch/detectron2.git->detectron2-densepose==0.5) (4.6.4)\n",
            "Requirement already satisfied: pyasn1<0.5.0,>=0.4.6 in /usr/local/lib/python3.7/dist-packages (from pyasn1-modules>=0.2.1->google-auth<2,>=1.6.3->tensorboard->detectron2@ git+https://github.com/facebookresearch/detectron2.git->detectron2-densepose==0.5) (0.4.8)\n",
            "Requirement already satisfied: certifi>=2017.4.17 in /usr/local/lib/python3.7/dist-packages (from requests<3,>=2.21.0->tensorboard->detectron2@ git+https://github.com/facebookresearch/detectron2.git->detectron2-densepose==0.5) (2021.5.30)\n",
            "Requirement already satisfied: idna<3,>=2.5 in /usr/local/lib/python3.7/dist-packages (from requests<3,>=2.21.0->tensorboard->detectron2@ git+https://github.com/facebookresearch/detectron2.git->detectron2-densepose==0.5) (2.10)\n",
            "Requirement already satisfied: chardet<4,>=3.0.2 in /usr/local/lib/python3.7/dist-packages (from requests<3,>=2.21.0->tensorboard->detectron2@ git+https://github.com/facebookresearch/detectron2.git->detectron2-densepose==0.5) (3.0.4)\n",
            "Requirement already satisfied: urllib3!=1.25.0,!=1.25.1,<1.26,>=1.21.1 in /usr/local/lib/python3.7/dist-packages (from requests<3,>=2.21.0->tensorboard->detectron2@ git+https://github.com/facebookresearch/detectron2.git->detectron2-densepose==0.5) (1.24.3)\n",
            "Requirement already satisfied: oauthlib>=3.0.0 in /usr/local/lib/python3.7/dist-packages (from requests-oauthlib>=0.7.0->google-auth-oauthlib<0.5,>=0.4.1->tensorboard->detectron2@ git+https://github.com/facebookresearch/detectron2.git->detectron2-densepose==0.5) (3.1.1)\n",
            "Building wheels for collected packages: detectron2-densepose, detectron2, fvcore, antlr4-python3-runtime\n",
            "  Building wheel for detectron2-densepose (setup.py) ... \u001b[?25l\u001b[?25hdone\n",
            "  Created wheel for detectron2-densepose: filename=detectron2_densepose-0.5-py3-none-any.whl size=162018 sha256=afa77493c5a174129e40d8dadf54c59947514569cd6562a9f91944205d4f0676\n",
            "  Stored in directory: /tmp/pip-ephem-wheel-cache-484ucaj8/wheels/13/09/94/144298b6e5e5ffe53ae87e0f9b6d0bef5bbc5654188c813d97\n",
            "  Building wheel for detectron2 (setup.py) ... \u001b[?25l\u001b[?25hdone\n",
            "  Created wheel for detectron2: filename=detectron2-0.5-cp37-cp37m-linux_x86_64.whl size=5519760 sha256=19c4d62db3380ab249475c9205c1a716560aa0d42c34a74086b6de40f2e52253\n",
            "  Stored in directory: /tmp/pip-ephem-wheel-cache-484ucaj8/wheels/07/dc/32/0322cb484dbefab8b9366bfedbaff5060ac7d149d69c27ca5d\n",
            "  Building wheel for fvcore (setup.py) ... \u001b[?25l\u001b[?25hdone\n",
            "  Created wheel for fvcore: filename=fvcore-0.1.5.post20210825-py3-none-any.whl size=60661 sha256=e3d5ec4777cdd9ca7a7085350eb9388f69be6d497a0287beb58521ac0e5d97e9\n",
            "  Stored in directory: /root/.cache/pip/wheels/53/c4/f8/c4cb07f135845218b019b4a55d8a0470a0f21ee13f8dcd16be\n",
            "  Building wheel for antlr4-python3-runtime (setup.py) ... \u001b[?25l\u001b[?25hdone\n",
            "  Created wheel for antlr4-python3-runtime: filename=antlr4_python3_runtime-4.8-py3-none-any.whl size=141230 sha256=b047d094888624ebe98d1f69f72922c5eb5d51fa4d059789779ea752f59ba28f\n",
            "  Stored in directory: /root/.cache/pip/wheels/ca/33/b7/336836125fc9bb4ceaa4376d8abca10ca8bc84ddc824baea6c\n",
            "Successfully built detectron2-densepose detectron2 fvcore antlr4-python3-runtime\n",
            "Installing collected packages: pyyaml, portalocker, antlr4-python3-runtime, yacs, typed-ast, regex, pathspec, omegaconf, mypy-extensions, iopath, hydra-core, fvcore, black, scipy, opencv-python-headless, detectron2, av, detectron2-densepose\n",
            "  Attempting uninstall: pyyaml\n",
            "    Found existing installation: PyYAML 3.13\n",
            "    Uninstalling PyYAML-3.13:\n",
            "      Successfully uninstalled PyYAML-3.13\n",
            "  Attempting uninstall: regex\n",
            "    Found existing installation: regex 2019.12.20\n",
            "    Uninstalling regex-2019.12.20:\n",
            "      Successfully uninstalled regex-2019.12.20\n",
            "  Attempting uninstall: scipy\n",
            "    Found existing installation: scipy 1.4.1\n",
            "    Uninstalling scipy-1.4.1:\n",
            "      Successfully uninstalled scipy-1.4.1\n",
            "\u001b[31mERROR: pip's dependency resolver does not currently take into account all the packages that are installed. This behaviour is the source of the following dependency conflicts.\n",
            "albumentations 0.1.12 requires imgaug<0.2.7,>=0.2.5, but you have imgaug 0.2.9 which is incompatible.\u001b[0m\n",
            "Successfully installed antlr4-python3-runtime-4.8 av-8.0.3 black-21.4b2 detectron2-0.5 detectron2-densepose-0.5 fvcore-0.1.5.post20210825 hydra-core-1.1.1 iopath-0.1.9 mypy-extensions-0.4.3 omegaconf-2.1.1 opencv-python-headless-4.5.3.56 pathspec-0.9.0 portalocker-2.3.1 pyyaml-5.4.1 regex-2021.8.21 scipy-1.7.1 typed-ast-1.4.3 yacs-0.1.8\n"
          ],
          "name": "stdout"
        },
        {
          "output_type": "display_data",
          "data": {
            "application/vnd.colab-display-data+json": {
              "pip_warning": {
                "packages": [
                  "pydevd_plugins"
                ]
              }
            }
          },
          "metadata": {}
        }
      ]
    },
    {
      "cell_type": "code",
      "metadata": {
        "colab": {
          "base_uri": "https://localhost:8080/"
        },
        "id": "iZOEs0b172_w",
        "outputId": "d61d400e-eee0-4de1-87e1-a1770a20d9e8"
      },
      "source": [
        "cd /content/detectron2/projects/DensePose"
      ],
      "execution_count": null,
      "outputs": [
        {
          "output_type": "stream",
          "text": [
            "/content/detectron2/projects/DensePose\n"
          ],
          "name": "stdout"
        }
      ]
    },
    {
      "cell_type": "markdown",
      "metadata": {
        "id": "yrniK7oBD0cR"
      },
      "source": [
        "## **DensePose for Images**"
      ]
    },
    {
      "cell_type": "code",
      "metadata": {
        "id": "rxYsXgeL6xsu"
      },
      "source": [
        "! python apply_net.py show configs/densepose_rcnn_R_50_FPN_s1x.yaml /content/drive/MyDrive/models/model_final_d366fa.pkl /content/drive/MyDrive/ex.jpg dp_contour,bbox --output outt.jpg"
      ],
      "execution_count": null,
      "outputs": []
    },
    {
      "cell_type": "code",
      "metadata": {
        "id": "VaKp2wUp_NJq"
      },
      "source": [
        "import os\n",
        "import numpy as np\n",
        "c = 0\n",
        "for i in os.listdir('/content/drive/MyDrive/yoga/yoga_82_wrongs'):\n",
        "  for j in os.listdir('/content/drive/MyDrive/yoga/yoga_82_wrongs/'+i):\n",
        "    if c>=0:\n",
        "     os.system(\"python apply_net.py dump configs/densepose_rcnn_R_101_FPN_s1x_legacy.yaml /content/drive/MyDrive/models/model_final_10af0e.pkl /content/drive/MyDrive/yoga/yoga_82_wrongs/\"+i+\"/\"+j+\" --output /content/drive/MyDrive/yoga/densepose_outputs/\"+i+\"/\"+j+\".pkl -v\")\n",
        "    c = c+1\n",
        "    np.save(\"/content/drive/MyDrive/yoga/c.npy\",c)\n"
      ],
      "execution_count": null,
      "outputs": []
    },
    {
      "cell_type": "code",
      "metadata": {
        "colab": {
          "base_uri": "https://localhost:8080/"
        },
        "id": "LxQjAIp1t3b4",
        "outputId": "a1fa04a8-072d-4d6b-c8eb-7c309c5dbce1"
      },
      "source": [
        "import numpy as np\n",
        "print(np.load(\"/content/drive/MyDrive/yoga/c.npy\"))"
      ],
      "execution_count": null,
      "outputs": [
        {
          "output_type": "stream",
          "text": [
            "751\n"
          ],
          "name": "stdout"
        }
      ]
    },
    {
      "cell_type": "code",
      "metadata": {
        "colab": {
          "base_uri": "https://localhost:8080/"
        },
        "id": "Y0llHm5s8bJj",
        "outputId": "adeef170-829e-4e3b-ea06-eab2a2b3caa6"
      },
      "source": [
        "! python apply_net.py dump configs/densepose_rcnn_R_101_FPN_s1x_legacy.yaml /content/drive/MyDrive/models/model_final_10af0e.pkl /content/drive/MyDrive/hel.jpg --output dump.pkl -v"
      ],
      "execution_count": null,
      "outputs": [
        {
          "output_type": "stream",
          "text": [
            "\u001b[32m[08/10 11:57:05 apply_net]: \u001b[0mLoading config from configs/densepose_rcnn_R_101_FPN_s1x_legacy.yaml\n",
            "\u001b[32m[08/10 11:57:05 apply_net]: \u001b[0mLoading model from /content/drive/MyDrive/models/model_final_10af0e.pkl\n",
            "\u001b[32m[08/10 11:57:09 apply_net]: \u001b[0mLoading data from /content/drive/MyDrive/hel.jpg\n",
            "/usr/local/lib/python3.7/dist-packages/torch/_tensor.py:575: UserWarning: floor_divide is deprecated, and will be removed in a future version of pytorch. It currently rounds toward 0 (like the 'trunc' function NOT 'floor'). This results in incorrect rounding for negative values.\n",
            "To keep the current behavior, use torch.div(a, b, rounding_mode='trunc'), or for actual floor division, use torch.div(a, b, rounding_mode='floor'). (Triggered internally at  /pytorch/aten/src/ATen/native/BinaryOps.cpp:467.)\n",
            "  return torch.floor_divide(self, other)\n",
            "/usr/local/lib/python3.7/dist-packages/torch/nn/functional.py:718: UserWarning: Named tensors and all their associated APIs are an experimental feature and subject to change. Please do not use them for anything important until they are released as stable. (Triggered internally at  /pytorch/c10/core/TensorImpl.h:1156.)\n",
            "  return torch.max_pool2d(input, kernel_size, stride, padding, dilation, ceil_mode)\n",
            "\u001b[32m[08/10 11:57:09 apply_net]: \u001b[0mProcessing /content/drive/MyDrive/hel.jpg\n",
            "/content/detectron2/projects/DensePose/densepose/vis/densepose_results.py:133: UserWarning: The following kwargs were not used by contour: 'cfg', 'texture_atlas', 'texture_atlases_dict'\n",
            "  plt.contour(u, self.levels, extent=extent, **self.plot_args)\n",
            "/content/detectron2/projects/DensePose/densepose/vis/densepose_results.py:134: UserWarning: The following kwargs were not used by contour: 'cfg', 'texture_atlas', 'texture_atlases_dict'\n",
            "  plt.contour(v, self.levels, extent=extent, **self.plot_args)\n",
            "\u001b[32m[08/10 11:57:10 apply_net]: \u001b[0mOutput saved to outputres.0001.png\n"
          ],
          "name": "stdout"
        }
      ]
    },
    {
      "cell_type": "code",
      "metadata": {
        "id": "ax4ztlBwMWlj"
      },
      "source": [
        "img_id, instance_id = 0, 0  # Look at the first image and the first detected instance\n",
        "bbox_xyxy = data[img_id]['pred_boxes_XYXY'][instance_id]\n",
        "result = data[img_id]['pred_densepose'][instance_id]\n",
        "uv = result.uv"
      ],
      "execution_count": null,
      "outputs": []
    },
    {
      "cell_type": "code",
      "metadata": {
        "colab": {
          "base_uri": "https://localhost:8080/"
        },
        "id": "Fe6J0A6Otflo",
        "outputId": "5cdfa5a7-fd86-44f2-e662-a0d4d1b1afde"
      },
      "source": [
        "import glob\n",
        "import os\n",
        "x = []\n",
        "for filename in glob.glob('/content/drive/MyDrive/rahul/densepose_outputs/images/AU_images_v/*.jpg'):\n",
        "  x.append(filename)\n",
        "for filename in x:\n",
        "  print(filename)\n",
        "  os.system(\"python apply_net.py show configs/densepose_rcnn_R_101_FPN_s1x_legacy.yaml /content/drive/MyDrive/models/model_final_10af0e.pkl \"+filename+\" dp_v --output \"+filename)\n",
        " "
      ],
      "execution_count": null,
      "outputs": [
        {
          "output_type": "stream",
          "text": [
            "/content/drive/MyDrive/rahul/densepose_outputs/images/AU_images_v/Original.jpg\n"
          ],
          "name": "stdout"
        }
      ]
    },
    {
      "cell_type": "markdown",
      "metadata": {
        "id": "ARKBT3wr7rf5"
      },
      "source": [
        "# DensePose Inference for Videos"
      ]
    },
    {
      "cell_type": "code",
      "metadata": {
        "id": "Uqh2iZ87aYkz"
      },
      "source": [
        "#Converting Videos to Frames\n",
        "import cv2\n",
        "import numpy as np\n",
        "import glob\n",
        "import os\n",
        "\n",
        "list_files = []\n",
        "for i in glob.glob('/content/drive/MyDrive/Stimulus/AU/*.mp4'):\n",
        " list_files.append(i)\n",
        "\n",
        "for dir in list_files:\n",
        " print(dir)\n",
        " os.system(\"mkdir /content/drive/MyDrive/temp\")\n",
        " os.system(\"mkdir /content/drive/MyDrive/temp1\")\n",
        "\n",
        " #Opens the Video file and extracts all its frames\n",
        " cap= cv2.VideoCapture(dir)\n",
        " i=0\n",
        " while(cap.isOpened()):\n",
        "  ret, frame = cap.read()\n",
        "  if ret == False:\n",
        "    break\n",
        "  cv2.imwrite('/content/drive/MyDrive/temp/'+str(i)+'.jpg',frame)\n",
        "  os.system(\"python apply_net.py show configs/densepose_rcnn_R_101_FPN_s1x_legacy.yaml /content/drive/MyDrive/models/model_final_10af0e.pkl /content/drive/MyDrive/temp/\"+str(i)+\".jpg dp_v --output /content/drive/MyDrive/temp1/\"+str(i)+\".jpg\")\n",
        "  i+=1\n",
        "\n",
        " cap.release()\n",
        " #cv2.destroyAllWindows()\n",
        "\n",
        " # Getting the frame rate\n",
        " video = cv2.VideoCapture(dir);\n",
        " # Find OpenCV version\n",
        " (major_ver, minor_ver, subminor_ver) = (cv2.__version__).split('.')\n",
        " if int(major_ver)  < 3 :\n",
        "  fps = video.get(cv2.cv.CV_CAP_PROP_FPS)\n",
        " else :\n",
        "  fps = video.get(cv2.CAP_PROP_FPS)\n",
        " video.release()\n",
        "\n",
        " # Combining Frames to form a video\n",
        "\n",
        " img_array = []\n",
        " for filename in glob.glob('/content/drive/MyDrive/temp1/*.jpg'):\n",
        "    img = cv2.imread(filename)\n",
        "    print(filename)\n",
        "    height, width, layers = img.shape\n",
        "    size = (width,height)\n",
        "    img_array.append(img)\n",
        "\n",
        " out = cv2.VideoWriter(dir,cv2.VideoWriter_fourcc(*'DIVX'), fps, size)\n",
        " \n",
        " for i in range(len(img_array)):\n",
        "    out.write(img_array[i])\n",
        " out.release()\n",
        " os.system(\"rm -r /content/drive/MyDrive/temp\")\n",
        " os.system(\"rm -r /content/drive/MyDrive/temp1\")\n",
        " #np.save(\"/content/drive/MyDrivelist.npy\",dir)\n",
        "\n",
        "\n",
        "\n"
      ],
      "execution_count": null,
      "outputs": []
    },
    {
      "cell_type": "code",
      "metadata": {
        "id": "C1VfKNQu8HMe"
      },
      "source": [
        ""
      ],
      "execution_count": null,
      "outputs": []
    }
  ]
}